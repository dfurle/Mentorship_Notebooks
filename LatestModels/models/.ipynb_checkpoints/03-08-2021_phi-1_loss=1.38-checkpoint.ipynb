{
 "cells": [
  {
   "cell_type": "markdown",
   "metadata": {
    "id": "Te6rdZgT5yAW"
   },
   "source": [
    "# Copy of Previous RNN"
   ]
  },
  {
   "cell_type": "markdown",
   "metadata": {
    "id": "fdsGeayZ523e"
   },
   "source": [
    "### Reminders:\n",
    "\n",
    "Read up on some of these:\n",
    "- https://machinelearningmastery.com/stateful-stateless-lstm-time-series-forecasting-python/\n",
    "- https://fairyonice.github.io/Stateful-LSTM-model-training-in-Keras.html \n",
    "- https://github.com/keras-team/keras/issues/5714\n",
    "- https://machinelearningmastery.com/use-different-batch-sizes-training-predicting-python-keras/\n",
    "\n",
    "###Shuffle Data!!!!!\n",
    "\n"
   ]
  },
  {
   "cell_type": "code",
   "execution_count": null,
   "metadata": {
    "colab": {
     "base_uri": "https://localhost:8080/"
    },
    "id": "ro1oh9-25xM9",
    "outputId": "e2638721-dec3-4b6c-9db0-df28d7fce705"
   },
   "outputs": [],
   "source": [
    "from google.colab import drive\n",
    "drive.mount('/content/drive')"
   ]
  },
  {
   "cell_type": "markdown",
   "metadata": {
    "id": "l7yOaxkJ58hh"
   },
   "source": [
    "# Pre-processing"
   ]
  },
  {
   "cell_type": "markdown",
   "metadata": {
    "id": "o5Lupm0J6Hre"
   },
   "source": [
    "## Do Basic Imports"
   ]
  },
  {
   "cell_type": "code",
   "execution_count": 1,
   "metadata": {
    "id": "gE8NHB9v6IDc"
   },
   "outputs": [],
   "source": [
    "import numpy as np\n",
    "from tensorflow import keras\n",
    "import tensorflow as tf\n",
    "import pandas\n",
    "from matplotlib import pyplot as plt\n",
    "from math import isnan\n",
    "from scipy.stats import norm\n",
    "\n",
    "pandas.set_option('display.max_columns', None)\n",
    "np.set_printoptions(suppress=True, precision=3)"
   ]
  },
  {
   "cell_type": "markdown",
   "metadata": {
    "id": "Yhg_bSj36CSt"
   },
   "source": [
    "## Obtain data"
   ]
  },
  {
   "cell_type": "code",
   "execution_count": 2,
   "metadata": {
    "id": "1LMf25vB5_vs"
   },
   "outputs": [],
   "source": [
    "# read data from drive\n",
    "# csv_train = pandas.read_csv(\"drive/MyDrive/first_10k.csv\")\n",
    "csv_train = pandas.read_csv(\"first_10k.csv\")\n",
    "# csv_train = pandas.read_csv(\"drive/MyDrive/FDC_tracks.csv\")\n",
    "unparsed_train = np.array(csv_train)"
   ]
  },
  {
   "cell_type": "markdown",
   "metadata": {
    "id": "7L54wTFh-NGU"
   },
   "source": [
    "## Ragged Custom Loss"
   ]
  },
  {
   "cell_type": "code",
   "execution_count": 3,
   "metadata": {
    "colab": {
     "base_uri": "https://localhost:8080/"
    },
    "id": "KoN7P86yCif6",
    "outputId": "b9ad9880-a607-4ac8-dd65-3e3a802f4a7a"
   },
   "outputs": [
    {
     "name": "stdout",
     "output_type": "stream",
     "text": [
      "[47.588573718740314, 47.716949659038654, 47.92074125234375, 0.0433333333333333, 96.0, 24.0, 343.50521373311966, 274.8641357421875, 3.24600255369344e-07, 137.76808719278492]\n",
      "[-47.69482374702719, -47.64816097490714, -47.78196688638672, 0.0100725857504721, 1.0, 1.0, 176.8656847042481, -77.76896667480467, 7.068405941829982e-10, 0.2999999999999999]\n",
      "[53.93938010927168, 182.16740477086037, 20.384216393930128, 80.4857546970404]\n",
      "[-59.97950523099952, -113.91363367061092, -21.351611455494343, -101.41199494730319]\n"
     ]
    }
   ],
   "source": [
    "_max = [-1000 for i in range(10)]\n",
    "_min = [1000 for i in range(10)]\n",
    "for index,event in enumerate(unparsed_train):\n",
    "  lower = 67\n",
    "  for upper in range(lower+14, event.shape[0]+1, 14):\n",
    "    d = event[lower:upper]\n",
    "    d = np.append(d[:2],d[6:])\n",
    "    for a in range(len(d)):\n",
    "      if d[a] > _max[a]:\n",
    "        _max[a] = d[a]\n",
    "      if d[a] < _min[a]:\n",
    "        _min[a] = d[a]\n",
    "    lower = upper\n",
    "print(_max)\n",
    "print(_min)\n",
    "\n",
    "_TOF_max = [-1000 for i in range(4)]\n",
    "_TOF_min = [1000 for i in range(4)]\n",
    "for index,event in enumerate(unparsed_train):\n",
    "  TOF = event[59:67]\n",
    "  # print(TOF)\n",
    "  for a in range(4):\n",
    "    if TOF[a*2] > _TOF_max[a]:\n",
    "      _TOF_max[a] = TOF[a*2]\n",
    "    if TOF[a*2] < _TOF_min[a]:\n",
    "      _TOF_min[a] = TOF[a*2]\n",
    "print(_TOF_max)\n",
    "print(_TOF_min)"
   ]
  },
  {
   "cell_type": "markdown",
   "metadata": {
    "id": "iOfDY5F8yJyl"
   },
   "source": [
    "After trying out many different possibilities, I have found making a RaggedTensor is the way to make variable timesteps.\n",
    "\n",
    "Once you create a RaggedTensor ONLY FOR X DATA, you need to also add:\n",
    "\n",
    "ragged=True\n",
    "\n",
    "to the keras.Inputs() function\n"
   ]
  },
  {
   "cell_type": "code",
   "execution_count": 4,
   "metadata": {
    "id": "BfACUWvW-NGd"
   },
   "outputs": [],
   "source": [
    "def ragged_parser(unparsed):\n",
    "  global _min, _max\n",
    "  x_final = []\n",
    "  y_final = []\n",
    "  invCov_final = []\n",
    "  cov_final = []\n",
    "  for event in unparsed:\n",
    "    x = []\n",
    "    y = []\n",
    "\n",
    "    nEvent = event[0]     # all the data split into neat little arrays...\n",
    "    state = event[1:6]\n",
    "    coVar = event[6:31]\n",
    "    invCoVar = event[31:56]\n",
    "    goodnessOfFit = event[56:59]\n",
    "    TOF = event[59:67]\n",
    "\n",
    "    if goodnessOfFit[2] > 0.1:   # Cutting if rms is too high\n",
    "      continue\n",
    "    hits = []\n",
    "    lower = 67\n",
    "    for upper in range(lower+14, event.shape[0]+1, 14): # to flip just go from end to 67 by -14 steps?\n",
    "\n",
    "      # hasNAN = False\n",
    "      # for val in event[lower:upper]:\n",
    "      #   if isnan(val):\n",
    "      #     hasNAN = True\n",
    "      # if not hasNAN:\n",
    "\n",
    "      if not isnan(event[lower]):            # Check if we are done with hits, because data is cut short, the rest will be nan\n",
    "        hit_data = event[lower:upper]                      # retrieving the hit\n",
    "        hit_data = np.append(hit_data[:2],hit_data[6:])    # cutting out the sin and cos data\n",
    "        for z in range(len(hit_data)):\n",
    "          hit_data[z] = (hit_data[z] - _min[z]) / (_max[z] - _min[z])    # we need to normalize the data; this can be moved to a lambda layer in the network if needed.\n",
    "        for i_TOF in range(4):\n",
    "          TOF[i_TOF*2] = (TOF[i_TOF*2] - _TOF_min[i_TOF]) / (_TOF_max[i_TOF] - _TOF_min[i_TOF])\n",
    "        hit_data = np.append(hit_data,TOF)\n",
    "        hits.append(np.ndarray.tolist(hit_data))       # we want it as a list to convert to RaggedTensor later; last time I checked it didnt work with array.\n",
    "      lower = upper\n",
    "    for i in range(len(hits)):   # this could be simplified to just: \"x = hits\" if im not mistaken...\n",
    "      x.append(hits[i])          # however we might need to add y.append(hits[i+1]) for later testing so leaving it like this for now...\n",
    "    y = np.ndarray.tolist(state)   # technically not needed, can be removed later... at first I thought i need to pass RaggedTensor labels, but that is not the case.\n",
    "    x_final.append(x)          # want x_final to be shape (event, hit, 10) as a list\n",
    "#     y_final.append(y)          # want y_final to be shape (event, 5)       as a np.array\n",
    "    y_final.append(y[1])          # want y_final to be shape (event, 5)       as a np.array\n",
    "    invCov_final.append(invCoVar[:])  # want other_f to be shape (event, 25)      as a np.array\n",
    "    cov_final.append(coVar[:])\n",
    "  x_final = tf.ragged.constant(x_final)   # convert list to RaggedTensor because timesteps (number of hits) are variable between events\n",
    "  y_final = np.array(y_final)\n",
    "  invCov_final = np.array(invCov_final)\n",
    "  cov_final = np.array(cov_final)\n",
    "  return [x_final, invCov_final, cov_final, y_final], y_final   # with the custom loss the x_train (input) needs to be a list of [inputs, inverseCovariance, labels]\n",
    "  # return [x_final, invCov_final], y_final   # with the custom loss the x_train (input) needs to be a list of [inputs, inverseCovariance, labels]"
   ]
  },
  {
   "cell_type": "code",
   "execution_count": 5,
   "metadata": {
    "colab": {
     "base_uri": "https://localhost:8080/"
    },
    "id": "J7H0PK6Q-NGg",
    "outputId": "6fcb6671-f32c-402a-c1a3-8489231a8d75"
   },
   "outputs": [
    {
     "name": "stdout",
     "output_type": "stream",
     "text": [
      "--==Types==--\n",
      "--x_train:--\n",
      "\n",
      "  -> input_data: x_train[0]\n",
      "  -> type expected: RaggedTensor\n",
      " <class 'tensorflow.python.ops.ragged.ragged_tensor.RaggedTensor'>\n",
      "\n",
      "  -> invCov: x_train[1]\n",
      "  -> type expected: np.array\n",
      " <class 'numpy.ndarray'>\n",
      "\n",
      "  -> y_train: x_train[2]\n",
      "  -> type expected: np.array\n",
      " <class 'numpy.ndarray'>\n",
      "\n",
      "--y_train:--\n",
      "\n",
      "  -> y_train: y_train\n",
      "  -> type expected: np.array\n",
      " <class 'numpy.ndarray'>\n",
      "\n",
      "\n",
      "--==Shapes==--\n",
      "--x_train:--  \n",
      "num of events: 7729\n",
      "\n",
      "  RaggedTensor | Input:  shape = (7729, 18, 18)\n",
      "  np.array     | InvCov: shape = (7729, 25)\n",
      "  np.array     | Labels: shape = (7729, 25)\n",
      "\n",
      "--x_train:--\n",
      "  np.array     | Labels: shape = (7729,)\n",
      "x_train : <tf.RaggedTensor [[0.7692640423774719, 0.765606164932251, 0.22407019138336182, 0.2642019987106323, 0.49473685026168823, 0.9130434989929199, 0.9742012023925781, 0.8189674615859985, 0.006027945317327976, 0.006027945317327976, 0.5265106558799744, 0.0, 0.4158459007740021, 1.0, 0.511589527130127, 0.0, 0.5575219988822937, 0.0], [0.6926482319831848, 0.5690751671791077, 0.3645309507846832, 0.05952613055706024, 0.2631579041481018, 0.8695651888847351, 0.9611853361129761, 0.28649309277534485, 0.033259935677051544, 0.033259935677051544, 0.5311324596405029, 0.0, 0.3861425220966339, 1.0, 0.5238472819328308, 0.0, 0.5605869889259338, 0.0], [0.23875504732131958, 0.24075621366500854, 0.7672280669212341, 0.10457572340965271, 0.5052631497383118, 0.782608687877655, 0.9352953433990479, 0.504021406173706, 0.018304066732525826, 0.018304066732525826, 0.5311729907989502, 0.0, 0.38604220747947693, 1.0, 0.5241410136222839, 0.0, 0.5606038570404053, 0.0], [0.33787238597869873, 0.4484703540802002, 0.6097946166992188, 0.07363839447498322, 0.7157894968986511, 0.739130437374115, 0.7676599621772766, 0.33562812209129333, 0.02666318602859974, 0.02666318602859974, 0.5311733484268188, 0.0, 0.3860418498516083, 1.0, 0.5241480469703674, 0.0, 0.5606039762496948, 0.0], [0.5710769891738892, 0.6744455695152283, 0.37305063009262085, 0.288280189037323, 0.7052631378173828, 0.695652186870575, 0.7548211812973022, 0.7309820652008057, 0.005347346421331167, 0.005347346421331167, 0.5311733484268188, 0.0, 0.3860418498516083, 1.0, 0.5241482257843018, 0.0, 0.5606039762496948, 0.0], [0.733315110206604, 0.7239073514938354, 0.263613760471344, 0.041055768728256226, 0.4842105209827423, 0.6521739363670349, 0.7418311238288879, 0.5430606007575989, 0.048400089144706726, 0.048400089144706726, 0.5311733484268188, 0.0, 0.3860418498516083, 1.0, 0.5241482257843018, 0.0, 0.5606039762496948, 0.0], [0.6543219089508057, 0.5472460389137268, 0.39544129371643066, 0.12399385124444962, 0.2947368323802948, 0.6086956262588501, 0.728915810585022, 0.5731130242347717, 0.015151274390518665, 0.015151274390518665, 0.5311733484268188, 0.0, 0.3860418498516083, 1.0, 0.5241482257843018, 0.0, 0.5606039762496948, 0.0], [0.42824169993400574, 0.3272317349910736, 0.6255077123641968, 0.04272006079554558, 0.3052631616592407, 0.5652173757553101, 0.7160916924476624, 0.30231329798698425, 0.046525269746780396, 0.046525269746780396, 0.5311733484268188, 0.0, 0.3860418498516083, 1.0, 0.5241482257843018, 0.0, 0.5606039762496948, 0.0], [0.2750035524368286, 0.28259047865867615, 0.7278001308441162, 0.024007415398955345, 0.5157894492149353, 0.52173912525177, 0.703081488609314, 0.3300199508666992, 0.08132698386907578, 0.08132698386907578, 0.5311733484268188, 0.0, 0.3860418498516083, 1.0, 0.5241482257843018, 0.0, 0.5606039762496948, 0.0], [0.3927527666091919, 0.47597992420196533, 0.5672175288200378, 0.08297774195671082, 0.6631578803062439, 0.47826087474823, 0.4162442684173584, 0.5024588704109192, 0.023499751463532448, 0.023499751463532448, 0.5311733484268188, 0.0, 0.3860418498516083, 1.0, 0.5241482257843018, 0.0, 0.5606039762496948, 0.0], [0.567786455154419, 0.6398308277130127, 0.392142653465271, 0.030097603797912598, 0.6421052813529968, 0.43478259444236755, 0.40303486585617065, 0.2945617437362671, 0.06557145714759827, 0.06557145714759827, 0.5311733484268188, 0.0, 0.3860418498516083, 1.0, 0.5241482257843018, 0.0, 0.5606039762496948, 0.0], [0.6758876442909241, 0.6613656878471375, 0.3252999782562256, 0.05598178505897522, 0.4736842215061188, 0.3913043439388275, 0.39034584164619446, 0.45713284611701965, 0.035419683903455734, 0.035419683903455734, 0.5311733484268188, 0.0, 0.3860418498516083, 1.0, 0.5241482257843018, 0.0, 0.5606039762496948, 0.0], [0.6067799925804138, 0.5218054056167603, 0.433348685503006, 0.06648389250040054, 0.3368421196937561, 0.3478260934352875, 0.3770085275173187, 0.44806209206581116, 0.029668668285012245, 0.029668668285012245, 0.5311733484268188, 0.0, 0.3860418498516083, 1.0, 0.5241482257843018, 0.0, 0.5606039762496948, 0.0], [0.33219149708747864, 0.3447727859020233, 0.6660985350608826, 0.02286168746650219, 0.5263158082962036, 0.260869562625885, 0.35123491287231445, 0.42745885252952576, 0.085147425532341, 0.085147425532341, 0.5311733484268188, 0.0, 0.3860418498516083, 1.0, 0.5241482257843018, 0.0, 0.5606039762496948, 0.0], [0.436598539352417, 0.4929949641227722, 0.5362541675567627, 0.03817495331168175, 0.6105263233184814, 0.21739129722118378, 0.0648939236998558, 0.2867984175682068, 0.052010804414749146, 0.052010804414749146, 0.5311733484268188, 0.0, 0.3860418498516083, 1.0, 0.5241482257843018, 0.0, 0.5606039762496948, 0.0], [0.6153600811958313, 0.6007120013237, 0.38774821162223816, 0.04457264766097069, 0.4736842215061188, 0.1304347813129425, 0.038748566061258316, 0.4948866367340088, 0.04459531232714653, 0.04459531232714653, 0.5311733484268188, 0.0, 0.3860418498516083, 1.0, 0.5241482257843018, 0.0, 0.5606039762496948, 0.0], [0.45056793093681335, 0.40904945135116577, 0.5723205208778381, 0.04106782376766205, 0.42105263471603394, 0.043478261679410934, 0.012867040000855923, 0.33683282136917114, 0.048385992646217346, 0.048385992646217346, 0.5311733484268188, 0.0, 0.3860418498516083, 1.0, 0.5241482257843018, 0.0, 0.5606039762496948, 0.0], [0.3925012946128845, 0.4053120017051697, 0.6041624546051025, 0.032487500458955765, 0.5263158082962036, 0.0, 0.00017478904919698834, 0.65003901720047, 0.060900986194610596, 0.060900986194610596, 0.5311733484268188, 0.0, 0.3860418498516083, 1.0, 0.5241482257843018, 0.0, 0.5606039762496948, 0.0]]>\n",
      "y_train : -1.959486255086148\n"
     ]
    }
   ],
   "source": [
    "# split = 450000\n",
    "# split = 3\n",
    "# split = int(unparsed_train.shape[0]*0.90)\n",
    "x_train, y_train = ragged_parser(unparsed_train[0:8300]) # shuffle data before taking\n",
    "x_test, y_test = ragged_parser(unparsed_train[8300:])\n",
    "# x_train, y_train = ragged_parser(unparsed_train[:split])\n",
    "# x_test , y_test  = ragged_parser(unparsed_train[split:split+100])\n",
    "\n",
    "print(\"--==Types==--\")\n",
    "print(\"--x_train:--\")\n",
    "print(\"\\n  -> input_data: x_train[0]\\n  -> type expected: RaggedTensor\\n \"+str(type(x_train[0])))\n",
    "print(\"\\n  -> invCov: x_train[1]\\n  -> type expected: np.array\\n \"+str(type(x_train[1])))\n",
    "print(\"\\n  -> y_train: x_train[2]\\n  -> type expected: np.array\\n \"+str(type(x_train[2])))\n",
    "print(\"\\n--y_train:--\")\n",
    "print(\"\\n  -> y_train: y_train\\n  -> type expected: np.array\\n \"+str(type(y_train)))\n",
    "\n",
    "print(\"\\n\\n--==Shapes==--\")\n",
    "print(\"--x_train:--  \\nnum of events: \" + str(x_train[0].shape[0]))\n",
    "print(\"\\n  RaggedTensor | Input:  shape = \" + \"(\" + str(x_train[0].shape[0]) + \", \"+ str(x_train[0][0].shape[0]) + \", \"+ str(x_train[0][0][0].shape[0]) + \")\")\n",
    "print(\"  np.array     | InvCov: shape = \" + str(x_train[1].shape))\n",
    "print(\"  np.array     | Labels: shape = \" + str(x_train[2].shape))\n",
    "print(\"\\n--x_train:--\")\n",
    "print(\"  np.array     | Labels: shape = \" + str(y_train.shape))\n",
    "\n",
    "print(\"x_train : \" + str(x_train[0][0]))\n",
    "print(\"y_train : \" + str(y_train[0]))\n"
   ]
  },
  {
   "cell_type": "markdown",
   "metadata": {
    "id": "SMvnihIl6ail"
   },
   "source": [
    "# Model"
   ]
  },
  {
   "cell_type": "markdown",
   "metadata": {
    "id": "zdreWH016c08"
   },
   "source": [
    "## Defining Models\n",
    "\n",
    "- model\n",
    "  - Very basic testing RNN model\n",
    "  - Output every timestep\n",
    "\n",
    "- model_timeless\n",
    "  - Very basic testing RNN model\n",
    "  - Output only at the end\n",
    "\n",
    "- RNNTime\n",
    "  - Advanced\n",
    "  - Time distributed, output every timestep\n",
    "\n",
    "- RNNTimeless\n",
    "  - Advanced\n",
    "  - Only output at final layer\n",
    "  "
   ]
  },
  {
   "cell_type": "code",
   "execution_count": 6,
   "metadata": {
    "id": "e8qCwtNw6bFk"
   },
   "outputs": [],
   "source": [
    "def model(x):\n",
    "  x = keras.layers.LSTM(64,activation=\"tanh\", name='input_lstm1', return_sequences=True)(x)\n",
    "  x = keras.layers.TimeDistributed(keras.layers.Dense(32, activation='relu'), name=\"TD1-Dense\")(x)\n",
    "  x = keras.layers.TimeDistributed(keras.layers.Dense(14, activation='linear'), name=\"output-Dense\")(x)\n",
    "  return x\n",
    "def model_timeless(x):\n",
    "  x = keras.layers.LSTM(64,activation=\"tanh\", name='input_lstm1', return_sequences=False)(x)\n",
    "  x = keras.layers.Dense(32, activation='relu', name=\"Dense1\")(x)\n",
    "  x = keras.layers.Dense(5, activation='relu', name=\"output-Dense\")(x)\n",
    "  return x\n",
    "\n",
    "def RNNTime(x):\n",
    "  x = keras.layers.LSTM(128,activation=\"tanh\", name='input_lstm1', stateful=False, return_sequences=True)(x)\n",
    "  x = keras.layers.LSTM(64,activation=\"tanh\", name='lstm2', stateful=False, return_sequences=True)(x)\n",
    "  x = keras.layers.LSTM(32,activation=\"tanh\", name='lstm3', stateful=False, return_sequences=True)(x)\n",
    "  x = keras.layers.TimeDistributed(keras.layers.Dense(32, activation='relu'), name=\"TD1-Dense\")(x)\n",
    "  x = keras.layers.TimeDistributed(keras.layers.Dense(5, activation='linear'), name=\"output-Dense\")(x)\n",
    "  return x\n",
    "\n",
    "def RNNTimeless(x):\n",
    "  x = keras.layers.LSTM(128,activation=\"tanh\", name='input_lstm1', stateful=False, return_sequences=True)(x)\n",
    "  x = keras.layers.LSTM(64,activation=\"tanh\", name='lstm2', stateful=False, return_sequences=True)(x)\n",
    "  x = keras.layers.LSTM(64,activation=\"tanh\", name='lstm3', stateful=False, return_sequences=False)(x)\n",
    "  x = keras.layers.Dense(32, activation='relu', name=\"Dense1\")(x)\n",
    "  x = keras.layers.Dense(1, activation='linear', name=\"output-Dense\")(x)\n",
    "  # x = keras.layers.Dense(5, activation='linear', name=\"output-Dense\")(x)\n",
    "  # x = keras.layers.lambda(# normalize)\n",
    "  return x\n",
    "\n",
    "\n",
    "# def RNNTimeless(x):\n",
    "#   x = keras.layers.LSTM(128,activation=\"tanh\", name='input_lstm1', stateful=False, return_sequences=True)(x)\n",
    "#   x = keras.layers.LSTM(64,activation=\"tanh\", name='lstm2', stateful=False, return_sequences=True)(x)\n",
    "#   x = keras.layers.LSTM(64,activation=\"tanh\", name='lstm3', stateful=False, return_sequences=False)(x)\n",
    "#   x = keras.layers.Dense(32, activation='relu', name=\"Dense1\")(x)\n",
    "#   x = keras.layers.Dense(5, activation='linear', name=\"output-Dense\")(x)\n",
    "#   # x = keras.layers.lambda(# normalize)\n",
    "#   return x"
   ]
  },
  {
   "cell_type": "markdown",
   "metadata": {
    "id": "Gtf37tFTB5HU"
   },
   "source": [
    "## Custom Loss"
   ]
  },
  {
   "cell_type": "markdown",
   "metadata": {
    "id": "JOZIj6R8u0VG"
   },
   "source": [
    "### V1 Originial, unedited"
   ]
  },
  {
   "cell_type": "code",
   "execution_count": 7,
   "metadata": {
    "id": "v8iA9da3HLBs"
   },
   "outputs": [],
   "source": [
    "import tensorflow as tf\n",
    "import tensorflow.keras.backend as K\n",
    "#--------------------------------------------\n",
    "# Define custom loss function \n",
    "def customLoss(y_true, y_pred, invcov):\n",
    "  # print(type(y_true))    #<class 'tensorflow.python.ops.resource_variable_ops.ResourceVariable'>\n",
    "\n",
    "  batch_size = tf.shape(y_pred)[0]\n",
    "  print('y_pred shape: ' + str(y_pred.shape) )  # y_pred shape is (batch, 5)\n",
    "  print('y_true shape: ' + str(y_true.shape) )  # y_true shape is (batch, 5)\n",
    "  print('invcov shape: ' + str(invcov.shape) )  # invcov shape is (batch, 25)\n",
    "  \n",
    "  y_pred = K.reshape(y_pred, (batch_size, 5,1)) # y_pred  shape is now (batch, 5,1)\n",
    "  y_true = K.reshape(y_true, (batch_size, 5,1)) # y_state shape is now (batch, 5,1)\n",
    "  invcov = K.reshape(invcov, (batch_size, 5,5)) # invcov  shape is now (batch, 5,5)\n",
    "  \n",
    "  # n.b. we must use tf.transpose here an not K.transpose since the latter does not allow perm argument\n",
    "  invcov = tf.transpose(invcov, perm=[0,2,1])     # invcov shape is now (batch, 5,5)\n",
    "  \n",
    "  # Difference between prediction and true state vectors\n",
    "  y_diff = y_pred - y_true\n",
    "\n",
    "  # n.b. use \"batch_dot\" and not \"dot\"!\n",
    "  y_dot = K.batch_dot(invcov, y_diff)           # y_dot shape is (batch,5,1)\n",
    "  y_dot = K.reshape(y_dot, (batch_size, 1, 5))  # y_dot shape is now (batch,1,5)\n",
    "  y_loss = K.batch_dot(y_dot, y_diff)           # y_loss shape is (batch,1,1)\n",
    "  y_loss = K.reshape(y_loss, (batch_size,))     # y_loss shape is now (batch)\n",
    "  return y_loss\n",
    "\n",
    "#--------------------------------------------\n",
    "# Test loss function\n",
    "# x_test = x_train[2][0]\n",
    "# y_test = model.predict([x_train[0][0:1],x_train[1][0:1],x_train[2][0:1]])\n",
    "# y_test = np.squeeze(y_test)\n",
    "# inconv_test = x_train[1][0]\n",
    "\n",
    "# loss = K.eval(customLoss(K.variable([x_test,x_test,x_test]), K.variable([y_test,y_test,y_test]), K.variable([inconv_test,inconv_test,inconv_test])))\n",
    "# print('loss shape: '    + str(loss.shape)    )\n",
    "# print(loss)"
   ]
  },
  {
   "cell_type": "markdown",
   "metadata": {
    "id": "ZXxfMKTqTvBC"
   },
   "source": [
    "### Metric"
   ]
  },
  {
   "cell_type": "code",
   "execution_count": 8,
   "metadata": {
    "id": "ZX3nAlhgTu4h"
   },
   "outputs": [],
   "source": [
    "def customMetric(y_true, y_pred, cov, id=0):\n",
    "  batch_size = tf.shape(y_pred)[0]\n",
    "\n",
    "  y_pred = K.reshape(y_pred, (batch_size, 5,1)) # y_pred  shape is now (batch, 5,1)\n",
    "  y_true = K.reshape(y_true, (batch_size, 5,1)) # y_state shape is now (batch, 5,1)\n",
    "  cov = K.reshape(cov, (batch_size, 5,5)) # cov  shape is now (batch, 5,5)\n",
    "  # cov = tf.transpose(cov, perm=[0,2,1])     # cov shape is now (batch, 5,5)\n",
    "  y_diff = y_pred[:,id] - y_true[:,id]\n",
    "  # y_diff = K.reshape(y_diff, (batch_size,1))\n",
    "  cov = K.reshape(cov[:,id,id], (batch_size,1))\n",
    "  # print(\"diff:\\n\",y_diff)\n",
    "  print(\"cov:\\n\",cov)\n",
    "  # return (y_diff*y_diff)/(cov[:,id,id])\n",
    "  return tf.math.square(y_diff)/(cov)\n",
    "\n",
    "# ccov = x_train[2][0:6]\n",
    "# ccov = np.reshape(ccov, (6,5,5))\n",
    "\n",
    "# print(ccov)\n",
    "\n",
    "# metric = K.eval(customMetric(y_train[0:6],y_train[1:7],x_train[2][0:6],0))\n",
    "# print(\"metric: \\n\",metric)"
   ]
  },
  {
   "cell_type": "code",
   "execution_count": 9,
   "metadata": {},
   "outputs": [],
   "source": [
    "def customMetric(y_true, y_pred, cov, id=0):\n",
    "  batch_size = tf.shape(y_pred)[0]\n",
    "\n",
    "  y_pred = K.reshape(y_pred, (batch_size, 1)) # y_pred  shape is now (batch, 5,1)\n",
    "  y_true = K.reshape(y_true, (batch_size, 1)) # y_state shape is now (batch, 5,1)\n",
    "  cov = K.reshape(cov, (batch_size, 5,5)) # cov  shape is now (batch, 5,5)\n",
    "  # cov = tf.transpose(cov, perm=[0,2,1])     # cov shape is now (batch, 5,5)\n",
    "  y_diff = y_pred - y_true\n",
    "  # y_diff = K.reshape(y_diff, (batch_size,1))\n",
    "  cov = K.reshape(cov[:,id,id], (batch_size,1))\n",
    "  # print(\"diff:\\n\",y_diff)\n",
    "  print(\"cov:\\n\",cov)\n",
    "  print(\"diff:\\n\",y_diff)\n",
    "  # return (y_diff*y_diff)/(cov[:,id,id])\n",
    "  return tf.math.square(y_diff)/(cov)\n",
    "\n",
    "# ccov = x_train[2][0:6]\n",
    "# ccov = np.reshape(ccov, (6,5,5))\n",
    "\n",
    "# print(ccov)\n",
    "\n",
    "# metric = K.eval(customMetric(y_train[0:6,0],y_train[1:7,0],x_train[2][0:6],3))\n",
    "# print(\"metric: \\n\",metric)"
   ]
  },
  {
   "cell_type": "markdown",
   "metadata": {
    "id": "Qw41A73h-zGB"
   },
   "source": [
    "## Create Model"
   ]
  },
  {
   "cell_type": "code",
   "execution_count": 10,
   "metadata": {
    "colab": {
     "base_uri": "https://localhost:8080/"
    },
    "id": "SZ7d8PMx652m",
    "outputId": "aab903f4-7785-4519-ef41-4067f641d5e8"
   },
   "outputs": [
    {
     "name": "stdout",
     "output_type": "stream",
     "text": [
      "cov:\n",
      " Tensor(\"Reshape_3:0\", shape=(None, 1), dtype=float32)\n",
      "diff:\n",
      " Tensor(\"Sub:0\", shape=(None, 1), dtype=float32)\n",
      "Model: \"RNNModel\"\n",
      "__________________________________________________________________________________________________\n",
      "Layer (type)                    Output Shape         Param #     Connected to                     \n",
      "==================================================================================================\n",
      "input_1 (InputLayer)            [(None, None, 18)]   0                                            \n",
      "__________________________________________________________________________________________________\n",
      "input_lstm1 (LSTM)              (None, None, 128)    75264       input_1[0][0]                    \n",
      "__________________________________________________________________________________________________\n",
      "lstm2 (LSTM)                    (None, None, 64)     49408       input_lstm1[0][0]                \n",
      "__________________________________________________________________________________________________\n",
      "lstm3 (LSTM)                    (None, 64)           33024       lstm2[0][0]                      \n",
      "__________________________________________________________________________________________________\n",
      "Dense1 (Dense)                  (None, 32)           2080        lstm3[0][0]                      \n",
      "__________________________________________________________________________________________________\n",
      "input_3 (InputLayer)            [(None, 25)]         0                                            \n",
      "__________________________________________________________________________________________________\n",
      "input_4 (InputLayer)            [(None, 25)]         0                                            \n",
      "__________________________________________________________________________________________________\n",
      "input_2 (InputLayer)            [(None, 1)]          0                                            \n",
      "__________________________________________________________________________________________________\n",
      "output-Dense (Dense)            (None, 1)            33          Dense1[0][0]                     \n",
      "__________________________________________________________________________________________________\n",
      "tf_op_layer_Shape (TensorFlowOp [(2,)]               0           output-Dense[0][0]               \n",
      "__________________________________________________________________________________________________\n",
      "tf_op_layer_strided_slice (Tens [()]                 0           tf_op_layer_Shape[0][0]          \n",
      "__________________________________________________________________________________________________\n",
      "tf_op_layer_Reshape/shape (Tens [(2,)]               0           tf_op_layer_strided_slice[0][0]  \n",
      "__________________________________________________________________________________________________\n",
      "tf_op_layer_Reshape_1/shape (Te [(2,)]               0           tf_op_layer_strided_slice[0][0]  \n",
      "__________________________________________________________________________________________________\n",
      "tf_op_layer_Reshape_2/shape (Te [(3,)]               0           tf_op_layer_strided_slice[0][0]  \n",
      "__________________________________________________________________________________________________\n",
      "tf_op_layer_Reshape (TensorFlow [(None, 1)]          0           output-Dense[0][0]               \n",
      "                                                                 tf_op_layer_Reshape/shape[0][0]  \n",
      "__________________________________________________________________________________________________\n",
      "tf_op_layer_Reshape_1 (TensorFl [(None, 1)]          0           input_2[0][0]                    \n",
      "                                                                 tf_op_layer_Reshape_1/shape[0][0]\n",
      "__________________________________________________________________________________________________\n",
      "tf_op_layer_Reshape_2 (TensorFl [(None, 5, 5)]       0           input_4[0][0]                    \n",
      "                                                                 tf_op_layer_Reshape_2/shape[0][0]\n",
      "__________________________________________________________________________________________________\n",
      "tf_op_layer_Sub (TensorFlowOpLa [(None, 1)]          0           tf_op_layer_Reshape[0][0]        \n",
      "                                                                 tf_op_layer_Reshape_1[0][0]      \n",
      "__________________________________________________________________________________________________\n",
      "tf_op_layer_strided_slice_1 (Te [(None,)]            0           tf_op_layer_Reshape_2[0][0]      \n",
      "__________________________________________________________________________________________________\n",
      "tf_op_layer_Reshape_3/shape (Te [(2,)]               0           tf_op_layer_strided_slice[0][0]  \n",
      "__________________________________________________________________________________________________\n",
      "tf_op_layer_Square (TensorFlowO [(None, 1)]          0           tf_op_layer_Sub[0][0]            \n",
      "__________________________________________________________________________________________________\n",
      "tf_op_layer_Reshape_3 (TensorFl [(None, 1)]          0           tf_op_layer_strided_slice_1[0][0]\n",
      "                                                                 tf_op_layer_Reshape_3/shape[0][0]\n",
      "__________________________________________________________________________________________________\n",
      "tf_op_layer_RealDiv (TensorFlow [(None, 1)]          0           tf_op_layer_Square[0][0]         \n",
      "                                                                 tf_op_layer_Reshape_3[0][0]      \n",
      "__________________________________________________________________________________________________\n",
      "add_metric (AddMetric)          (None, 1)            0           tf_op_layer_RealDiv[0][0]        \n",
      "==================================================================================================\n",
      "Total params: 159,809\n",
      "Trainable params: 159,809\n",
      "Non-trainable params: 0\n",
      "__________________________________________________________________________________________________\n"
     ]
    }
   ],
   "source": [
    "# --==Not in use?==--\n",
    "# lr_schedule = keras.optimizers.schedules.ExponentialDecay(\n",
    "#     initial_learning_rate=1e-3,\n",
    "#     decay_steps=10000,\n",
    "#     decay_rate=0.8)\n",
    "from keras.layers import Dense\n",
    "\n",
    "# nInput = 10\n",
    "nInput = 18\n",
    "\n",
    "# --==Set seed to get identical results==-- begin\n",
    "# from tensorflow.random import set_seed\n",
    "# np.random.seed(1)\n",
    "# set_seed(2)\n",
    "# --==Set seed to get identical results==-- end\n",
    "\n",
    "#--==Set Weights==--\n",
    "# loss_weights = [1/(sd**2)]\n",
    "# loss_weights = np.array(loss_weights)/sum(loss_weights)\n",
    "# model.compile(optimizer=optimizer, loss=\"mse\", loss_weights=loss_weights, metrics=[\"mae\"])\n",
    "\n",
    "inputs = keras.Input((None,nInput))\n",
    "# input_true = keras.Input((5,))\n",
    "input_true = keras.Input((1,))\n",
    "input_incov = keras.Input((25,))\n",
    "input_cov_f = keras.Input((25,))\n",
    "all_inputs = [inputs, input_incov, input_cov_f, input_true]\n",
    "# all_inputs = [inputs, input_incov, input_true]\n",
    "\n",
    "# --==Choose model==--\n",
    "# x = model(inputs)\n",
    "# x = model_timeless(inputs)\n",
    "# x = RNNTime(inputs)\n",
    "x = RNNTimeless(inputs)\n",
    "# x = RNNTimeStateful(inputs)\n",
    "\n",
    "optimizer = keras.optimizers.Adam(learning_rate=0.0001)\n",
    "\n",
    "# outs = {\n",
    "#     \"q_pt\":Dense(1, name=\"q_pt\")(x),\n",
    "#     \"phi\":Dense(1, name=\"phi\")(x),\n",
    "#     \"tanl\":Dense(1, name=\"tanl\")(x),\n",
    "#     \"D\":Dense(1, name=\"D\")(x),\n",
    "#     \"z\":Dense(1, name=\"z\")(x)\n",
    "# }\n",
    "\n",
    "# y_dict = {\n",
    "#     \"q_pt\":y_train[:,0],\n",
    "#     \"phi\":y_train[:,1],\n",
    "#     \"tanl\":y_train[:,2],\n",
    "#     \"D\":y_train[:,3],\n",
    "#     \"z\":y_train[:,4]\n",
    "# }\n",
    "\n",
    "# model = keras.Model(inputs=all_inputs, outputs=outs, name=\"RNNModel\")\n",
    "\n",
    "model = keras.Model(inputs=all_inputs, outputs=x, name=\"RNNModel\")\n",
    "\n",
    "# model.add_metric(customMetric(input_true, x, input_cov_f, 0),name=\"q_pt\")\n",
    "# model.add_metric(customMetric(input_true, x, input_cov_f, 1),name=\"phi\")\n",
    "# model.add_metric(customMetric(input_true, x, input_cov_f, 2),name=\"tanl\")\n",
    "# model.add_metric(customMetric(input_true, x, input_cov_f, 3),name=\"D\")\n",
    "# model.add_metric(customMetric(input_true, x, input_cov_f, 4),name=\"z\")\n",
    "\n",
    "# model.add_loss(customLoss(input_true, x, input_incov))\n",
    "# model.compile(loss=None, optimizer=optimizer, metrics=[\"mae\"])\n",
    "\n",
    "# model.compile(loss=\"mse\", optimizer=optimizer, metrics=[\"mae\"])\n",
    "\n",
    "\n",
    "model.add_metric(customMetric(input_true, x, input_cov_f, 0),name=\"customMetric\")\n",
    "# try as loss\n",
    "\n",
    "model.compile(loss=\"mse\", optimizer=optimizer, metrics=[\"mae\"])\n",
    "# model.compile(loss=\"\", optimizer=optimizer, metrics=[\"mae\"])\n",
    "\n",
    "\n",
    "model.summary()"
   ]
  },
  {
   "cell_type": "markdown",
   "metadata": {
    "id": "nkjx1-6Gr76F"
   },
   "source": [
    "### Custom Train"
   ]
  },
  {
   "cell_type": "code",
   "execution_count": 11,
   "metadata": {
    "id": "t2pxxUfH7sjY"
   },
   "outputs": [],
   "source": [
    "def concat_hist(H1,H2):\n",
    "  H = {}\n",
    "  for i in H1.keys():\n",
    "    H[i] = list(np.append(np.array(H1[i]),np.array(H2[i])))\n",
    "  return H\n",
    "H = None"
   ]
  },
  {
   "cell_type": "code",
   "execution_count": 23,
   "metadata": {
    "colab": {
     "base_uri": "https://localhost:8080/"
    },
    "id": "sjLh8Eh07HRW",
    "outputId": "e8312305-0acd-4240-c575-5b48161d1655"
   },
   "outputs": [
    {
     "name": "stdout",
     "output_type": "stream",
     "text": [
      "Epoch 1/300\n",
      "31/31 [==============================] - 2s 70ms/step - loss: 1.6911 - mae: 0.9053 - customMetric: 317.6182 - val_loss: 2.3617 - val_mae: 1.0586 - val_customMetric: 105.1101\n",
      "Epoch 2/300\n",
      "31/31 [==============================] - 2s 67ms/step - loss: 1.7149 - mae: 0.9127 - customMetric: 323.7167 - val_loss: 2.4024 - val_mae: 1.0803 - val_customMetric: 112.0760\n",
      "Epoch 3/300\n",
      "31/31 [==============================] - 2s 66ms/step - loss: 1.7450 - mae: 0.9243 - customMetric: 294.0315 - val_loss: 2.4268 - val_mae: 1.0738 - val_customMetric: 112.4454\n",
      "Epoch 4/300\n",
      "31/31 [==============================] - 2s 66ms/step - loss: 1.7938 - mae: 0.9394 - customMetric: 328.4904 - val_loss: 2.3392 - val_mae: 1.0635 - val_customMetric: 106.3953\n",
      "Epoch 5/300\n",
      "31/31 [==============================] - 2s 65ms/step - loss: 1.6967 - mae: 0.9036 - customMetric: 329.1071 - val_loss: 2.3495 - val_mae: 1.0637 - val_customMetric: 107.9406\n",
      "Epoch 6/300\n",
      "31/31 [==============================] - 2s 65ms/step - loss: 1.7095 - mae: 0.9118 - customMetric: 312.9142 - val_loss: 2.3604 - val_mae: 1.0530 - val_customMetric: 114.0953\n",
      "Epoch 7/300\n",
      "31/31 [==============================] - 2s 67ms/step - loss: 1.7017 - mae: 0.9084 - customMetric: 316.6999 - val_loss: 2.3481 - val_mae: 1.0579 - val_customMetric: 109.6902\n",
      "Epoch 8/300\n",
      "31/31 [==============================] - 2s 66ms/step - loss: 1.7767 - mae: 0.9307 - customMetric: 326.0998 - val_loss: 2.3698 - val_mae: 1.0667 - val_customMetric: 108.6781\n",
      "Epoch 9/300\n",
      "31/31 [==============================] - 2s 66ms/step - loss: 1.7467 - mae: 0.9202 - customMetric: 329.6136 - val_loss: 2.3381 - val_mae: 1.0651 - val_customMetric: 107.3113\n",
      "Epoch 10/300\n",
      "31/31 [==============================] - 2s 65ms/step - loss: 1.7067 - mae: 0.9080 - customMetric: 316.4917 - val_loss: 2.3609 - val_mae: 1.0612 - val_customMetric: 109.5853\n",
      "Epoch 11/300\n",
      "31/31 [==============================] - 2s 66ms/step - loss: 1.7148 - mae: 0.9105 - customMetric: 342.3542 - val_loss: 2.3444 - val_mae: 1.0602 - val_customMetric: 104.0219\n",
      "Epoch 12/300\n",
      "31/31 [==============================] - 2s 67ms/step - loss: 1.7104 - mae: 0.9083 - customMetric: 314.5886 - val_loss: 2.4955 - val_mae: 1.0778 - val_customMetric: 116.3797\n",
      "Epoch 13/300\n",
      "31/31 [==============================] - 2s 66ms/step - loss: 1.7876 - mae: 0.9296 - customMetric: 335.8843 - val_loss: 2.3420 - val_mae: 1.0569 - val_customMetric: 106.6850\n",
      "Epoch 14/300\n",
      "31/31 [==============================] - 2s 66ms/step - loss: 1.7157 - mae: 0.9144 - customMetric: 321.3603 - val_loss: 2.3637 - val_mae: 1.0658 - val_customMetric: 108.3862\n",
      "Epoch 15/300\n",
      "31/31 [==============================] - 2s 67ms/step - loss: 1.7226 - mae: 0.9190 - customMetric: 320.2888 - val_loss: 2.3606 - val_mae: 1.0597 - val_customMetric: 115.0472\n",
      "Epoch 16/300\n",
      "31/31 [==============================] - 2s 66ms/step - loss: 1.6900 - mae: 0.9054 - customMetric: 335.9359 - val_loss: 2.3344 - val_mae: 1.0530 - val_customMetric: 103.5795\n",
      "Epoch 17/300\n",
      "31/31 [==============================] - 2s 66ms/step - loss: 1.6826 - mae: 0.9006 - customMetric: 321.0499 - val_loss: 2.3298 - val_mae: 1.0504 - val_customMetric: 109.7421\n",
      "Epoch 18/300\n",
      "31/31 [==============================] - 2s 66ms/step - loss: 1.7007 - mae: 0.9059 - customMetric: 322.4125 - val_loss: 2.4051 - val_mae: 1.0696 - val_customMetric: 111.7217\n",
      "Epoch 19/300\n",
      "31/31 [==============================] - 2s 66ms/step - loss: 1.6815 - mae: 0.9005 - customMetric: 314.8579 - val_loss: 2.3289 - val_mae: 1.0544 - val_customMetric: 108.8044\n",
      "Epoch 20/300\n",
      "31/31 [==============================] - 2s 66ms/step - loss: 1.7016 - mae: 0.9053 - customMetric: 305.5008 - val_loss: 2.4104 - val_mae: 1.0623 - val_customMetric: 110.7845\n",
      "Epoch 21/300\n",
      "31/31 [==============================] - 2s 67ms/step - loss: 1.6694 - mae: 0.8976 - customMetric: 310.9150 - val_loss: 2.4115 - val_mae: 1.0785 - val_customMetric: 109.9765\n",
      "Epoch 22/300\n",
      "31/31 [==============================] - 2s 66ms/step - loss: 1.7196 - mae: 0.9148 - customMetric: 330.8166 - val_loss: 2.4101 - val_mae: 1.0723 - val_customMetric: 119.5471\n",
      "Epoch 23/300\n",
      "31/31 [==============================] - 2s 66ms/step - loss: 1.7233 - mae: 0.9153 - customMetric: 306.3087 - val_loss: 2.3843 - val_mae: 1.0665 - val_customMetric: 112.8961\n",
      "Epoch 24/300\n",
      "31/31 [==============================] - 2s 66ms/step - loss: 1.7549 - mae: 0.9225 - customMetric: 318.6881 - val_loss: 2.4168 - val_mae: 1.0766 - val_customMetric: 120.2471\n",
      "Epoch 25/300\n",
      "31/31 [==============================] - 2s 66ms/step - loss: 1.6985 - mae: 0.9061 - customMetric: 316.4594 - val_loss: 2.3482 - val_mae: 1.0593 - val_customMetric: 109.0132\n",
      "Epoch 26/300\n",
      "31/31 [==============================] - 2s 66ms/step - loss: 1.6809 - mae: 0.9027 - customMetric: 321.5334 - val_loss: 2.3388 - val_mae: 1.0489 - val_customMetric: 110.9058\n",
      "Epoch 27/300\n",
      "31/31 [==============================] - 2s 65ms/step - loss: 1.7710 - mae: 0.9233 - customMetric: 328.6311 - val_loss: 2.5092 - val_mae: 1.1243 - val_customMetric: 128.3033\n",
      "Epoch 28/300\n",
      "31/31 [==============================] - 2s 66ms/step - loss: 1.8387 - mae: 0.9559 - customMetric: 306.5033 - val_loss: 2.3393 - val_mae: 1.0589 - val_customMetric: 111.5956\n",
      "Epoch 29/300\n",
      "31/31 [==============================] - 2s 66ms/step - loss: 1.7146 - mae: 0.9126 - customMetric: 316.5407 - val_loss: 2.3807 - val_mae: 1.0659 - val_customMetric: 111.7357\n",
      "Epoch 30/300\n",
      "31/31 [==============================] - 2s 66ms/step - loss: 1.6846 - mae: 0.8999 - customMetric: 329.4717 - val_loss: 2.3733 - val_mae: 1.0630 - val_customMetric: 109.6463\n",
      "Epoch 31/300\n",
      "31/31 [==============================] - 2s 67ms/step - loss: 1.6624 - mae: 0.8944 - customMetric: 312.4605 - val_loss: 2.4040 - val_mae: 1.0707 - val_customMetric: 115.4292\n",
      "Epoch 32/300\n",
      "31/31 [==============================] - 2s 66ms/step - loss: 1.6863 - mae: 0.9004 - customMetric: 319.5263 - val_loss: 2.4301 - val_mae: 1.0749 - val_customMetric: 113.8284\n",
      "Epoch 33/300\n",
      "31/31 [==============================] - 2s 66ms/step - loss: 1.7279 - mae: 0.9078 - customMetric: 323.3990 - val_loss: 2.4216 - val_mae: 1.0778 - val_customMetric: 108.2852\n",
      "Epoch 34/300\n",
      "31/31 [==============================] - 2s 66ms/step - loss: 1.6961 - mae: 0.9043 - customMetric: 324.0858 - val_loss: 2.4132 - val_mae: 1.0763 - val_customMetric: 112.1007\n",
      "Epoch 35/300\n",
      "31/31 [==============================] - 2s 67ms/step - loss: 1.7169 - mae: 0.9096 - customMetric: 318.4448 - val_loss: 2.3775 - val_mae: 1.0777 - val_customMetric: 111.2318\n",
      "Epoch 36/300\n",
      "31/31 [==============================] - 2s 67ms/step - loss: 1.6688 - mae: 0.8971 - customMetric: 330.7387 - val_loss: 2.3923 - val_mae: 1.0648 - val_customMetric: 115.1307\n",
      "Epoch 37/300\n",
      "31/31 [==============================] - 2s 66ms/step - loss: 1.6739 - mae: 0.8973 - customMetric: 313.9681 - val_loss: 2.3806 - val_mae: 1.0710 - val_customMetric: 115.8260\n",
      "Epoch 38/300\n",
      "31/31 [==============================] - 2s 66ms/step - loss: 1.6914 - mae: 0.9031 - customMetric: 319.2734 - val_loss: 2.3969 - val_mae: 1.0684 - val_customMetric: 118.7345\n",
      "Epoch 39/300\n",
      "31/31 [==============================] - 2s 66ms/step - loss: 1.6741 - mae: 0.9000 - customMetric: 315.6159 - val_loss: 2.4076 - val_mae: 1.0844 - val_customMetric: 115.5997\n",
      "Epoch 40/300\n",
      "31/31 [==============================] - 2s 67ms/step - loss: 1.7710 - mae: 0.9310 - customMetric: 326.5129 - val_loss: 2.4387 - val_mae: 1.0920 - val_customMetric: 130.6420\n",
      "Epoch 41/300\n",
      "31/31 [==============================] - 2s 67ms/step - loss: 1.7061 - mae: 0.9074 - customMetric: 317.3453 - val_loss: 2.3927 - val_mae: 1.0584 - val_customMetric: 113.2249\n",
      "Epoch 42/300\n",
      "31/31 [==============================] - 2s 66ms/step - loss: 1.6836 - mae: 0.9014 - customMetric: 334.3328 - val_loss: 2.3587 - val_mae: 1.0562 - val_customMetric: 109.2979\n",
      "Epoch 43/300\n",
      "31/31 [==============================] - 2s 66ms/step - loss: 1.6613 - mae: 0.8919 - customMetric: 325.0353 - val_loss: 2.4591 - val_mae: 1.0698 - val_customMetric: 120.9055\n",
      "Epoch 44/300\n",
      "31/31 [==============================] - 2s 66ms/step - loss: 1.7451 - mae: 0.9139 - customMetric: 336.0371 - val_loss: 2.3749 - val_mae: 1.0605 - val_customMetric: 113.5651\n",
      "Epoch 45/300\n",
      "31/31 [==============================] - 2s 67ms/step - loss: 1.6735 - mae: 0.8975 - customMetric: 315.3815 - val_loss: 2.3655 - val_mae: 1.0623 - val_customMetric: 117.5804\n",
      "Epoch 46/300\n",
      "31/31 [==============================] - 2s 66ms/step - loss: 1.6726 - mae: 0.8963 - customMetric: 333.2672 - val_loss: 2.3730 - val_mae: 1.0596 - val_customMetric: 116.4429\n",
      "Epoch 47/300\n",
      "31/31 [==============================] - 2s 66ms/step - loss: 1.7529 - mae: 0.9232 - customMetric: 333.7239 - val_loss: 2.4302 - val_mae: 1.0767 - val_customMetric: 115.0960\n",
      "Epoch 48/300\n",
      "31/31 [==============================] - 2s 67ms/step - loss: 1.6934 - mae: 0.9044 - customMetric: 334.8069 - val_loss: 2.4304 - val_mae: 1.0676 - val_customMetric: 128.7195\n",
      "Epoch 49/300\n",
      "31/31 [==============================] - 2s 66ms/step - loss: 1.6492 - mae: 0.8892 - customMetric: 327.2273 - val_loss: 2.3891 - val_mae: 1.0686 - val_customMetric: 115.4153\n",
      "Epoch 50/300\n",
      "31/31 [==============================] - 2s 66ms/step - loss: 1.6548 - mae: 0.8909 - customMetric: 317.9448 - val_loss: 2.3989 - val_mae: 1.0595 - val_customMetric: 116.7288\n",
      "Epoch 51/300\n",
      "31/31 [==============================] - 2s 65ms/step - loss: 1.6530 - mae: 0.8937 - customMetric: 328.8896 - val_loss: 2.4192 - val_mae: 1.0627 - val_customMetric: 112.9237\n",
      "Epoch 52/300\n",
      "31/31 [==============================] - 2s 66ms/step - loss: 1.6700 - mae: 0.8971 - customMetric: 325.0805 - val_loss: 2.4126 - val_mae: 1.0679 - val_customMetric: 117.5415\n",
      "Epoch 53/300\n",
      "31/31 [==============================] - 2s 65ms/step - loss: 1.6321 - mae: 0.8833 - customMetric: 305.7184 - val_loss: 2.4028 - val_mae: 1.0621 - val_customMetric: 117.5439\n",
      "Epoch 54/300\n",
      "31/31 [==============================] - 2s 66ms/step - loss: 1.6417 - mae: 0.8863 - customMetric: 326.6384 - val_loss: 2.4216 - val_mae: 1.0744 - val_customMetric: 125.6865\n",
      "Epoch 55/300\n",
      "31/31 [==============================] - 2s 66ms/step - loss: 1.7178 - mae: 0.9100 - customMetric: 325.6323 - val_loss: 2.4312 - val_mae: 1.0738 - val_customMetric: 120.2015\n",
      "Epoch 56/300\n",
      "31/31 [==============================] - 2s 65ms/step - loss: 1.6785 - mae: 0.8981 - customMetric: 322.3841 - val_loss: 2.4618 - val_mae: 1.0787 - val_customMetric: 131.0506\n",
      "Epoch 57/300\n",
      "31/31 [==============================] - 2s 67ms/step - loss: 1.6854 - mae: 0.9061 - customMetric: 313.5913 - val_loss: 2.3808 - val_mae: 1.0571 - val_customMetric: 114.8165\n",
      "Epoch 58/300\n",
      "31/31 [==============================] - 2s 66ms/step - loss: 1.6474 - mae: 0.8866 - customMetric: 319.5482 - val_loss: 2.4659 - val_mae: 1.0931 - val_customMetric: 127.4881\n",
      "Epoch 59/300\n",
      "31/31 [==============================] - 2s 67ms/step - loss: 1.6737 - mae: 0.8984 - customMetric: 321.5433 - val_loss: 2.3818 - val_mae: 1.0593 - val_customMetric: 110.2199\n",
      "Epoch 60/300\n",
      "31/31 [==============================] - 2s 66ms/step - loss: 1.6706 - mae: 0.8949 - customMetric: 328.4775 - val_loss: 2.3711 - val_mae: 1.0605 - val_customMetric: 116.5611\n",
      "Epoch 61/300\n",
      "31/31 [==============================] - 2s 67ms/step - loss: 1.6570 - mae: 0.8937 - customMetric: 314.3865 - val_loss: 2.4186 - val_mae: 1.0684 - val_customMetric: 116.0003\n",
      "Epoch 62/300\n",
      "31/31 [==============================] - 2s 67ms/step - loss: 1.6673 - mae: 0.8978 - customMetric: 321.6065 - val_loss: 2.3851 - val_mae: 1.0611 - val_customMetric: 112.8802\n",
      "Epoch 63/300\n",
      "31/31 [==============================] - 2s 67ms/step - loss: 1.7322 - mae: 0.9132 - customMetric: 332.3695 - val_loss: 2.3795 - val_mae: 1.0706 - val_customMetric: 109.3906\n",
      "Epoch 64/300\n",
      "31/31 [==============================] - 2s 66ms/step - loss: 1.6879 - mae: 0.9038 - customMetric: 331.8902 - val_loss: 2.3717 - val_mae: 1.0576 - val_customMetric: 116.5067\n",
      "Epoch 65/300\n",
      "31/31 [==============================] - 2s 66ms/step - loss: 1.6725 - mae: 0.9024 - customMetric: 365.6099 - val_loss: 2.4547 - val_mae: 1.0701 - val_customMetric: 113.8929\n",
      "Epoch 66/300\n",
      "31/31 [==============================] - 2s 66ms/step - loss: 1.6420 - mae: 0.8905 - customMetric: 322.8932 - val_loss: 2.3854 - val_mae: 1.0549 - val_customMetric: 118.5808\n",
      "Epoch 67/300\n",
      "31/31 [==============================] - 2s 67ms/step - loss: 1.6470 - mae: 0.8850 - customMetric: 325.2059 - val_loss: 2.3860 - val_mae: 1.0585 - val_customMetric: 117.2613\n",
      "Epoch 68/300\n",
      "31/31 [==============================] - 2s 67ms/step - loss: 1.6408 - mae: 0.8849 - customMetric: 326.8730 - val_loss: 2.4575 - val_mae: 1.0729 - val_customMetric: 122.5278\n",
      "Epoch 69/300\n",
      "31/31 [==============================] - 2s 66ms/step - loss: 1.6759 - mae: 0.8979 - customMetric: 313.2758 - val_loss: 2.3578 - val_mae: 1.0551 - val_customMetric: 112.6451\n",
      "Epoch 70/300\n",
      "31/31 [==============================] - 2s 66ms/step - loss: 1.6200 - mae: 0.8828 - customMetric: 312.1003 - val_loss: 2.4056 - val_mae: 1.0608 - val_customMetric: 114.5987\n",
      "Epoch 71/300\n",
      "31/31 [==============================] - 2s 67ms/step - loss: 1.6102 - mae: 0.8773 - customMetric: 316.6767 - val_loss: 2.3501 - val_mae: 1.0575 - val_customMetric: 117.1940\n",
      "Epoch 72/300\n",
      "31/31 [==============================] - 2s 66ms/step - loss: 1.6237 - mae: 0.8828 - customMetric: 313.4480 - val_loss: 2.4208 - val_mae: 1.0618 - val_customMetric: 121.0596\n",
      "Epoch 73/300\n",
      "31/31 [==============================] - 2s 66ms/step - loss: 1.6939 - mae: 0.9022 - customMetric: 330.6584 - val_loss: 2.4021 - val_mae: 1.0709 - val_customMetric: 118.7465\n",
      "Epoch 74/300\n",
      "31/31 [==============================] - 2s 66ms/step - loss: 1.6342 - mae: 0.8846 - customMetric: 309.8409 - val_loss: 2.4117 - val_mae: 1.0617 - val_customMetric: 115.0681\n",
      "Epoch 75/300\n",
      "31/31 [==============================] - 2s 66ms/step - loss: 1.6075 - mae: 0.8770 - customMetric: 305.1967 - val_loss: 2.4160 - val_mae: 1.0726 - val_customMetric: 120.3169\n",
      "Epoch 76/300\n",
      "31/31 [==============================] - 2s 66ms/step - loss: 1.6223 - mae: 0.8807 - customMetric: 328.7214 - val_loss: 2.4971 - val_mae: 1.0806 - val_customMetric: 117.2794\n",
      "Epoch 77/300\n",
      "31/31 [==============================] - 2s 66ms/step - loss: 1.6298 - mae: 0.8818 - customMetric: 320.0766 - val_loss: 2.4483 - val_mae: 1.0724 - val_customMetric: 118.6293\n",
      "Epoch 78/300\n",
      "31/31 [==============================] - 2s 66ms/step - loss: 1.6309 - mae: 0.8827 - customMetric: 322.4814 - val_loss: 2.4385 - val_mae: 1.0644 - val_customMetric: 121.8708\n",
      "Epoch 79/300\n",
      "31/31 [==============================] - 2s 66ms/step - loss: 1.6390 - mae: 0.8878 - customMetric: 324.7227 - val_loss: 2.3772 - val_mae: 1.0639 - val_customMetric: 119.0859\n",
      "Epoch 80/300\n",
      "31/31 [==============================] - 2s 66ms/step - loss: 1.6274 - mae: 0.8825 - customMetric: 323.0512 - val_loss: 2.4271 - val_mae: 1.0601 - val_customMetric: 116.5296\n",
      "Epoch 81/300\n",
      "31/31 [==============================] - 2s 66ms/step - loss: 1.6680 - mae: 0.8933 - customMetric: 318.1422 - val_loss: 2.4828 - val_mae: 1.0742 - val_customMetric: 122.2666\n",
      "Epoch 82/300\n",
      "31/31 [==============================] - 2s 67ms/step - loss: 1.6177 - mae: 0.8812 - customMetric: 311.7265 - val_loss: 2.4551 - val_mae: 1.0675 - val_customMetric: 123.5112\n",
      "Epoch 83/300\n",
      "31/31 [==============================] - 2s 66ms/step - loss: 1.6255 - mae: 0.8809 - customMetric: 324.2577 - val_loss: 2.4069 - val_mae: 1.0621 - val_customMetric: 120.5620\n",
      "Epoch 84/300\n",
      "31/31 [==============================] - 2s 66ms/step - loss: 1.6407 - mae: 0.8915 - customMetric: 326.0978 - val_loss: 2.4303 - val_mae: 1.0647 - val_customMetric: 115.5987\n",
      "Epoch 85/300\n",
      "31/31 [==============================] - 2s 66ms/step - loss: 1.6054 - mae: 0.8746 - customMetric: 316.3441 - val_loss: 2.3704 - val_mae: 1.0527 - val_customMetric: 113.4064\n",
      "Epoch 86/300\n",
      "31/31 [==============================] - 2s 66ms/step - loss: 1.6618 - mae: 0.8896 - customMetric: 316.7452 - val_loss: 2.4049 - val_mae: 1.0631 - val_customMetric: 120.1261\n",
      "Epoch 87/300\n",
      "31/31 [==============================] - 2s 66ms/step - loss: 1.6114 - mae: 0.8757 - customMetric: 325.3056 - val_loss: 2.4253 - val_mae: 1.0620 - val_customMetric: 117.9228\n",
      "Epoch 88/300\n",
      "31/31 [==============================] - 2s 66ms/step - loss: 1.6104 - mae: 0.8734 - customMetric: 335.3849 - val_loss: 2.3917 - val_mae: 1.0595 - val_customMetric: 116.1872\n",
      "Epoch 89/300\n",
      "31/31 [==============================] - 2s 66ms/step - loss: 1.6607 - mae: 0.8908 - customMetric: 332.9124 - val_loss: 2.4341 - val_mae: 1.0590 - val_customMetric: 121.0543\n",
      "Epoch 90/300\n",
      "31/31 [==============================] - 2s 66ms/step - loss: 1.6153 - mae: 0.8764 - customMetric: 320.4708 - val_loss: 2.4660 - val_mae: 1.0714 - val_customMetric: 123.2162\n",
      "Epoch 91/300\n",
      "31/31 [==============================] - 2s 67ms/step - loss: 1.6337 - mae: 0.8849 - customMetric: 328.2393 - val_loss: 2.4063 - val_mae: 1.0629 - val_customMetric: 118.8654\n",
      "Epoch 92/300\n",
      "31/31 [==============================] - 2s 68ms/step - loss: 1.6232 - mae: 0.8830 - customMetric: 323.9201 - val_loss: 2.4271 - val_mae: 1.0587 - val_customMetric: 117.6447\n",
      "Epoch 93/300\n",
      "31/31 [==============================] - 2s 67ms/step - loss: 1.5932 - mae: 0.8712 - customMetric: 305.7023 - val_loss: 2.4425 - val_mae: 1.0775 - val_customMetric: 122.2445\n",
      "Epoch 94/300\n",
      "31/31 [==============================] - 2s 66ms/step - loss: 1.5946 - mae: 0.8719 - customMetric: 323.5839 - val_loss: 2.4525 - val_mae: 1.0703 - val_customMetric: 121.5216\n",
      "Epoch 95/300\n",
      "31/31 [==============================] - 2s 67ms/step - loss: 1.6241 - mae: 0.8779 - customMetric: 325.8740 - val_loss: 2.4495 - val_mae: 1.0690 - val_customMetric: 118.0675\n",
      "Epoch 96/300\n",
      "31/31 [==============================] - 2s 67ms/step - loss: 1.6144 - mae: 0.8757 - customMetric: 326.4057 - val_loss: 2.4788 - val_mae: 1.0672 - val_customMetric: 119.6947\n",
      "Epoch 97/300\n",
      "31/31 [==============================] - 2s 66ms/step - loss: 1.6472 - mae: 0.8870 - customMetric: 326.4554 - val_loss: 2.4227 - val_mae: 1.0734 - val_customMetric: 118.7796\n",
      "Epoch 98/300\n",
      "31/31 [==============================] - 2s 65ms/step - loss: 1.6596 - mae: 0.8934 - customMetric: 318.9578 - val_loss: 2.4287 - val_mae: 1.0653 - val_customMetric: 117.4928\n",
      "Epoch 99/300\n",
      "31/31 [==============================] - 2s 67ms/step - loss: 1.6180 - mae: 0.8760 - customMetric: 320.8734 - val_loss: 2.4682 - val_mae: 1.0750 - val_customMetric: 121.5719\n",
      "Epoch 100/300\n",
      "31/31 [==============================] - 2s 66ms/step - loss: 1.6865 - mae: 0.8987 - customMetric: 326.8458 - val_loss: 2.4402 - val_mae: 1.0690 - val_customMetric: 114.8051\n",
      "Epoch 101/300\n",
      "31/31 [==============================] - 2s 66ms/step - loss: 1.6430 - mae: 0.8882 - customMetric: 331.7885 - val_loss: 2.3908 - val_mae: 1.0551 - val_customMetric: 120.1333\n",
      "Epoch 102/300\n",
      "31/31 [==============================] - 2s 65ms/step - loss: 1.5819 - mae: 0.8719 - customMetric: 330.1096 - val_loss: 2.3937 - val_mae: 1.0569 - val_customMetric: 116.7587\n",
      "Epoch 103/300\n",
      "31/31 [==============================] - 2s 66ms/step - loss: 1.6243 - mae: 0.8803 - customMetric: 311.1313 - val_loss: 2.3988 - val_mae: 1.0582 - val_customMetric: 118.1070\n",
      "Epoch 104/300\n",
      "31/31 [==============================] - 2s 67ms/step - loss: 1.5918 - mae: 0.8727 - customMetric: 351.0811 - val_loss: 2.4485 - val_mae: 1.0772 - val_customMetric: 118.2764\n",
      "Epoch 105/300\n",
      "31/31 [==============================] - 2s 66ms/step - loss: 1.5974 - mae: 0.8694 - customMetric: 320.3773 - val_loss: 2.4431 - val_mae: 1.0707 - val_customMetric: 124.5807\n",
      "Epoch 106/300\n",
      "31/31 [==============================] - 2s 66ms/step - loss: 1.5842 - mae: 0.8696 - customMetric: 328.2034 - val_loss: 2.4796 - val_mae: 1.0779 - val_customMetric: 123.4929\n",
      "Epoch 107/300\n",
      "31/31 [==============================] - 2s 66ms/step - loss: 1.5676 - mae: 0.8626 - customMetric: 314.3219 - val_loss: 2.4119 - val_mae: 1.0541 - val_customMetric: 117.6025\n",
      "Epoch 108/300\n",
      "31/31 [==============================] - 2s 66ms/step - loss: 1.5760 - mae: 0.8627 - customMetric: 324.0874 - val_loss: 2.4346 - val_mae: 1.0691 - val_customMetric: 118.4616\n",
      "Epoch 109/300\n",
      "31/31 [==============================] - 2s 66ms/step - loss: 1.5890 - mae: 0.8723 - customMetric: 326.4735 - val_loss: 2.4021 - val_mae: 1.0528 - val_customMetric: 120.8095\n",
      "Epoch 110/300\n",
      "31/31 [==============================] - 2s 66ms/step - loss: 1.6506 - mae: 0.8894 - customMetric: 335.9846 - val_loss: 2.4504 - val_mae: 1.0689 - val_customMetric: 121.6534\n",
      "Epoch 111/300\n",
      "31/31 [==============================] - 2s 66ms/step - loss: 1.5904 - mae: 0.8689 - customMetric: 325.9312 - val_loss: 2.4267 - val_mae: 1.0647 - val_customMetric: 124.9574\n",
      "Epoch 112/300\n",
      "31/31 [==============================] - 2s 66ms/step - loss: 1.5732 - mae: 0.8645 - customMetric: 353.7143 - val_loss: 2.4968 - val_mae: 1.0745 - val_customMetric: 123.0733\n",
      "Epoch 113/300\n",
      "31/31 [==============================] - 2s 66ms/step - loss: 1.6033 - mae: 0.8778 - customMetric: 322.0941 - val_loss: 2.3892 - val_mae: 1.0519 - val_customMetric: 116.9735\n",
      "Epoch 114/300\n",
      "31/31 [==============================] - 2s 66ms/step - loss: 1.5556 - mae: 0.8595 - customMetric: 324.9054 - val_loss: 2.4171 - val_mae: 1.0614 - val_customMetric: 119.4532\n",
      "Epoch 115/300\n",
      "31/31 [==============================] - 2s 66ms/step - loss: 1.5756 - mae: 0.8633 - customMetric: 320.1336 - val_loss: 2.5089 - val_mae: 1.0773 - val_customMetric: 123.4600\n",
      "Epoch 116/300\n",
      "31/31 [==============================] - 2s 66ms/step - loss: 1.6007 - mae: 0.8700 - customMetric: 341.2092 - val_loss: 2.4154 - val_mae: 1.0692 - val_customMetric: 123.5229\n",
      "Epoch 117/300\n",
      "31/31 [==============================] - 2s 66ms/step - loss: 1.5913 - mae: 0.8742 - customMetric: 330.7386 - val_loss: 2.5709 - val_mae: 1.0820 - val_customMetric: 121.6862\n",
      "Epoch 118/300\n",
      "31/31 [==============================] - 2s 66ms/step - loss: 1.5971 - mae: 0.8689 - customMetric: 324.3954 - val_loss: 2.4518 - val_mae: 1.0611 - val_customMetric: 114.9372\n",
      "Epoch 119/300\n",
      "31/31 [==============================] - 2s 66ms/step - loss: 1.6235 - mae: 0.8811 - customMetric: 346.4448 - val_loss: 2.4478 - val_mae: 1.0628 - val_customMetric: 121.0608\n",
      "Epoch 120/300\n",
      "31/31 [==============================] - 2s 67ms/step - loss: 1.6319 - mae: 0.8803 - customMetric: 329.5443 - val_loss: 2.4550 - val_mae: 1.0646 - val_customMetric: 119.8474\n",
      "Epoch 121/300\n",
      "31/31 [==============================] - 2s 66ms/step - loss: 1.5959 - mae: 0.8723 - customMetric: 322.2768 - val_loss: 2.4575 - val_mae: 1.0754 - val_customMetric: 117.8589\n",
      "Epoch 122/300\n",
      "31/31 [==============================] - 2s 66ms/step - loss: 1.6456 - mae: 0.8923 - customMetric: 294.9297 - val_loss: 2.4082 - val_mae: 1.0693 - val_customMetric: 123.4192\n",
      "Epoch 123/300\n",
      "31/31 [==============================] - 2s 67ms/step - loss: 1.5863 - mae: 0.8674 - customMetric: 320.5206 - val_loss: 2.4960 - val_mae: 1.0711 - val_customMetric: 118.6462\n",
      "Epoch 124/300\n",
      "31/31 [==============================] - 2s 67ms/step - loss: 1.5689 - mae: 0.8646 - customMetric: 320.8364 - val_loss: 2.4465 - val_mae: 1.0699 - val_customMetric: 123.1697\n",
      "Epoch 125/300\n",
      "31/31 [==============================] - 2s 66ms/step - loss: 1.5675 - mae: 0.8606 - customMetric: 311.1555 - val_loss: 2.5150 - val_mae: 1.0675 - val_customMetric: 122.5952\n",
      "Epoch 126/300\n",
      "31/31 [==============================] - 2s 66ms/step - loss: 1.5967 - mae: 0.8712 - customMetric: 324.6389 - val_loss: 2.4119 - val_mae: 1.0506 - val_customMetric: 117.6187\n",
      "Epoch 127/300\n",
      "31/31 [==============================] - 2s 66ms/step - loss: 1.6354 - mae: 0.8861 - customMetric: 343.7871 - val_loss: 2.5116 - val_mae: 1.0859 - val_customMetric: 121.5070\n",
      "Epoch 128/300\n",
      "31/31 [==============================] - 2s 66ms/step - loss: 1.6432 - mae: 0.8849 - customMetric: 317.6497 - val_loss: 2.4607 - val_mae: 1.0660 - val_customMetric: 117.7373\n",
      "Epoch 129/300\n",
      "31/31 [==============================] - 2s 66ms/step - loss: 1.5620 - mae: 0.8631 - customMetric: 318.9224 - val_loss: 2.4258 - val_mae: 1.0553 - val_customMetric: 121.6528\n",
      "Epoch 130/300\n",
      "31/31 [==============================] - 2s 66ms/step - loss: 1.6059 - mae: 0.8798 - customMetric: 317.0780 - val_loss: 2.5183 - val_mae: 1.0793 - val_customMetric: 132.1086\n",
      "Epoch 131/300\n",
      "31/31 [==============================] - 2s 66ms/step - loss: 1.6624 - mae: 0.8894 - customMetric: 317.5768 - val_loss: 2.4117 - val_mae: 1.0647 - val_customMetric: 124.4514\n",
      "Epoch 132/300\n",
      "31/31 [==============================] - 2s 67ms/step - loss: 1.6258 - mae: 0.8795 - customMetric: 337.8442 - val_loss: 2.5085 - val_mae: 1.0839 - val_customMetric: 121.3074\n",
      "Epoch 133/300\n",
      "31/31 [==============================] - 2s 66ms/step - loss: 1.6433 - mae: 0.8897 - customMetric: 325.8813 - val_loss: 2.4465 - val_mae: 1.0769 - val_customMetric: 122.8730\n",
      "Epoch 134/300\n",
      "31/31 [==============================] - 2s 66ms/step - loss: 1.6164 - mae: 0.8801 - customMetric: 327.3265 - val_loss: 2.4127 - val_mae: 1.0571 - val_customMetric: 120.8897\n",
      "Epoch 135/300\n",
      "31/31 [==============================] - 2s 66ms/step - loss: 1.5481 - mae: 0.8550 - customMetric: 326.2079 - val_loss: 2.3853 - val_mae: 1.0619 - val_customMetric: 123.7499\n",
      "Epoch 136/300\n",
      "31/31 [==============================] - 2s 66ms/step - loss: 1.5973 - mae: 0.8728 - customMetric: 356.0157 - val_loss: 2.4831 - val_mae: 1.0728 - val_customMetric: 123.4833\n",
      "Epoch 137/300\n",
      "31/31 [==============================] - 2s 66ms/step - loss: 1.5600 - mae: 0.8571 - customMetric: 327.0928 - val_loss: 2.4873 - val_mae: 1.0799 - val_customMetric: 122.0447\n",
      "Epoch 138/300\n",
      "31/31 [==============================] - 2s 66ms/step - loss: 1.5636 - mae: 0.8622 - customMetric: 323.3713 - val_loss: 2.4305 - val_mae: 1.0709 - val_customMetric: 128.0367\n",
      "Epoch 139/300\n",
      "31/31 [==============================] - 2s 66ms/step - loss: 1.5457 - mae: 0.8546 - customMetric: 330.1443 - val_loss: 2.4686 - val_mae: 1.0698 - val_customMetric: 127.5403\n",
      "Epoch 140/300\n",
      "31/31 [==============================] - 2s 66ms/step - loss: 1.5319 - mae: 0.8537 - customMetric: 327.5509 - val_loss: 2.4677 - val_mae: 1.0739 - val_customMetric: 128.4041\n",
      "Epoch 141/300\n",
      "31/31 [==============================] - 2s 66ms/step - loss: 1.5622 - mae: 0.8584 - customMetric: 314.7958 - val_loss: 2.4521 - val_mae: 1.0660 - val_customMetric: 123.3339\n",
      "Epoch 142/300\n",
      "31/31 [==============================] - 2s 66ms/step - loss: 1.5735 - mae: 0.8658 - customMetric: 331.9373 - val_loss: 2.5013 - val_mae: 1.0792 - val_customMetric: 121.7295\n",
      "Epoch 143/300\n",
      "31/31 [==============================] - 2s 66ms/step - loss: 1.5776 - mae: 0.8703 - customMetric: 315.1547 - val_loss: 2.4519 - val_mae: 1.0632 - val_customMetric: 122.0176\n",
      "Epoch 144/300\n",
      "31/31 [==============================] - 2s 66ms/step - loss: 1.5832 - mae: 0.8671 - customMetric: 324.2474 - val_loss: 2.4248 - val_mae: 1.0602 - val_customMetric: 119.7483\n",
      "Epoch 145/300\n",
      "31/31 [==============================] - 2s 66ms/step - loss: 1.5662 - mae: 0.8589 - customMetric: 329.3479 - val_loss: 2.4268 - val_mae: 1.0629 - val_customMetric: 125.8701\n",
      "Epoch 146/300\n",
      "31/31 [==============================] - 2s 67ms/step - loss: 1.5676 - mae: 0.8623 - customMetric: 333.2733 - val_loss: 2.4718 - val_mae: 1.0727 - val_customMetric: 130.9323\n",
      "Epoch 147/300\n",
      "31/31 [==============================] - 2s 66ms/step - loss: 1.6329 - mae: 0.8793 - customMetric: 323.3808 - val_loss: 2.4825 - val_mae: 1.0752 - val_customMetric: 122.6250\n",
      "Epoch 148/300\n",
      "31/31 [==============================] - 2s 66ms/step - loss: 1.5368 - mae: 0.8552 - customMetric: 334.3923 - val_loss: 2.4907 - val_mae: 1.0758 - val_customMetric: 123.5700\n",
      "Epoch 149/300\n",
      "31/31 [==============================] - 2s 67ms/step - loss: 1.5285 - mae: 0.8532 - customMetric: 331.5167 - val_loss: 2.4728 - val_mae: 1.0640 - val_customMetric: 123.9958\n",
      "Epoch 150/300\n",
      "31/31 [==============================] - 2s 66ms/step - loss: 1.5811 - mae: 0.8660 - customMetric: 335.8937 - val_loss: 2.5234 - val_mae: 1.0712 - val_customMetric: 119.6165\n",
      "Epoch 151/300\n",
      "31/31 [==============================] - 2s 67ms/step - loss: 1.5600 - mae: 0.8619 - customMetric: 329.6797 - val_loss: 2.4360 - val_mae: 1.0661 - val_customMetric: 123.5862\n",
      "Epoch 152/300\n",
      "31/31 [==============================] - 2s 66ms/step - loss: 1.6188 - mae: 0.8807 - customMetric: 350.0894 - val_loss: 2.4344 - val_mae: 1.0611 - val_customMetric: 120.9522\n",
      "Epoch 153/300\n",
      "31/31 [==============================] - 2s 66ms/step - loss: 1.5765 - mae: 0.8666 - customMetric: 315.0906 - val_loss: 2.4625 - val_mae: 1.0647 - val_customMetric: 123.9312\n",
      "Epoch 154/300\n",
      "31/31 [==============================] - 2s 66ms/step - loss: 1.5255 - mae: 0.8480 - customMetric: 307.7019 - val_loss: 2.5549 - val_mae: 1.0926 - val_customMetric: 125.2786\n",
      "Epoch 155/300\n",
      "31/31 [==============================] - 2s 66ms/step - loss: 1.5439 - mae: 0.8586 - customMetric: 320.7266 - val_loss: 2.5054 - val_mae: 1.0722 - val_customMetric: 120.3481\n",
      "Epoch 156/300\n",
      "31/31 [==============================] - 2s 66ms/step - loss: 1.5674 - mae: 0.8674 - customMetric: 308.7478 - val_loss: 2.4888 - val_mae: 1.0752 - val_customMetric: 135.3438\n",
      "Epoch 157/300\n",
      "31/31 [==============================] - 2s 65ms/step - loss: 1.5471 - mae: 0.8562 - customMetric: 332.9570 - val_loss: 2.4796 - val_mae: 1.0650 - val_customMetric: 122.1665\n",
      "Epoch 158/300\n",
      "31/31 [==============================] - 2s 66ms/step - loss: 1.5403 - mae: 0.8554 - customMetric: 329.0061 - val_loss: 2.4206 - val_mae: 1.0472 - val_customMetric: 120.8524\n",
      "Epoch 159/300\n",
      "31/31 [==============================] - 2s 66ms/step - loss: 1.5156 - mae: 0.8431 - customMetric: 319.0267 - val_loss: 2.3822 - val_mae: 1.0509 - val_customMetric: 123.9522\n",
      "Epoch 160/300\n",
      "31/31 [==============================] - 2s 66ms/step - loss: 1.5371 - mae: 0.8520 - customMetric: 322.8806 - val_loss: 2.4945 - val_mae: 1.0697 - val_customMetric: 124.0549\n",
      "Epoch 161/300\n",
      "31/31 [==============================] - 2s 66ms/step - loss: 1.6629 - mae: 0.8903 - customMetric: 348.3459 - val_loss: 2.5158 - val_mae: 1.0802 - val_customMetric: 125.6314\n",
      "Epoch 162/300\n",
      "31/31 [==============================] - 2s 67ms/step - loss: 1.6996 - mae: 0.8977 - customMetric: 320.6063 - val_loss: 2.4806 - val_mae: 1.0757 - val_customMetric: 128.4945\n",
      "Epoch 163/300\n",
      "31/31 [==============================] - 2s 66ms/step - loss: 1.5427 - mae: 0.8611 - customMetric: 334.3357 - val_loss: 2.4643 - val_mae: 1.0731 - val_customMetric: 121.3792\n",
      "Epoch 164/300\n",
      "31/31 [==============================] - 2s 66ms/step - loss: 1.5652 - mae: 0.8595 - customMetric: 324.4902 - val_loss: 2.5164 - val_mae: 1.0724 - val_customMetric: 124.6470\n",
      "Epoch 165/300\n",
      "31/31 [==============================] - 2s 66ms/step - loss: 1.5322 - mae: 0.8546 - customMetric: 333.2947 - val_loss: 2.4499 - val_mae: 1.0619 - val_customMetric: 121.1451\n",
      "Epoch 166/300\n",
      "31/31 [==============================] - 2s 66ms/step - loss: 1.5201 - mae: 0.8474 - customMetric: 319.5040 - val_loss: 2.4578 - val_mae: 1.0610 - val_customMetric: 125.5659\n",
      "Epoch 167/300\n",
      "31/31 [==============================] - 2s 66ms/step - loss: 1.5184 - mae: 0.8481 - customMetric: 311.7406 - val_loss: 2.4195 - val_mae: 1.0567 - val_customMetric: 124.9715\n",
      "Epoch 168/300\n",
      "31/31 [==============================] - 2s 66ms/step - loss: 1.5802 - mae: 0.8628 - customMetric: 322.7766 - val_loss: 2.4694 - val_mae: 1.0702 - val_customMetric: 124.5542\n",
      "Epoch 169/300\n",
      "31/31 [==============================] - 2s 66ms/step - loss: 1.5539 - mae: 0.8596 - customMetric: 304.2480 - val_loss: 2.4540 - val_mae: 1.0711 - val_customMetric: 124.8951\n",
      "Epoch 170/300\n",
      "31/31 [==============================] - 2s 66ms/step - loss: 1.5462 - mae: 0.8582 - customMetric: 335.4307 - val_loss: 2.5567 - val_mae: 1.0919 - val_customMetric: 120.8252\n",
      "Epoch 171/300\n",
      "31/31 [==============================] - 2s 66ms/step - loss: 1.5761 - mae: 0.8630 - customMetric: 321.8366 - val_loss: 2.4625 - val_mae: 1.0562 - val_customMetric: 126.7501\n",
      "Epoch 172/300\n",
      "31/31 [==============================] - 2s 66ms/step - loss: 1.5201 - mae: 0.8457 - customMetric: 338.3944 - val_loss: 2.4915 - val_mae: 1.0698 - val_customMetric: 123.9554\n",
      "Epoch 173/300\n",
      "31/31 [==============================] - 2s 66ms/step - loss: 1.5288 - mae: 0.8548 - customMetric: 321.9973 - val_loss: 2.5455 - val_mae: 1.0785 - val_customMetric: 126.1133\n",
      "Epoch 174/300\n",
      "31/31 [==============================] - 2s 66ms/step - loss: 1.5453 - mae: 0.8554 - customMetric: 316.0369 - val_loss: 2.5223 - val_mae: 1.0818 - val_customMetric: 141.2274\n",
      "Epoch 175/300\n",
      "31/31 [==============================] - 2s 66ms/step - loss: 1.5187 - mae: 0.8485 - customMetric: 320.7317 - val_loss: 2.4885 - val_mae: 1.0638 - val_customMetric: 127.2907\n",
      "Epoch 176/300\n",
      "31/31 [==============================] - 2s 66ms/step - loss: 1.5110 - mae: 0.8463 - customMetric: 327.0787 - val_loss: 2.5010 - val_mae: 1.0668 - val_customMetric: 121.0643\n",
      "Epoch 177/300\n",
      "31/31 [==============================] - 2s 67ms/step - loss: 1.5189 - mae: 0.8478 - customMetric: 311.4609 - val_loss: 2.5103 - val_mae: 1.0720 - val_customMetric: 123.5530\n",
      "Epoch 178/300\n",
      "31/31 [==============================] - 2s 66ms/step - loss: 1.6587 - mae: 0.8841 - customMetric: 353.3941 - val_loss: 2.5577 - val_mae: 1.0886 - val_customMetric: 124.3211\n",
      "Epoch 179/300\n",
      "31/31 [==============================] - 2s 67ms/step - loss: 1.5484 - mae: 0.8580 - customMetric: 314.5563 - val_loss: 2.4915 - val_mae: 1.0759 - val_customMetric: 125.3939\n",
      "Epoch 180/300\n",
      "31/31 [==============================] - 2s 66ms/step - loss: 1.5276 - mae: 0.8483 - customMetric: 315.3942 - val_loss: 2.4142 - val_mae: 1.0595 - val_customMetric: 121.0330\n",
      "Epoch 181/300\n",
      "31/31 [==============================] - 2s 66ms/step - loss: 1.4796 - mae: 0.8361 - customMetric: 315.0107 - val_loss: 2.4290 - val_mae: 1.0606 - val_customMetric: 124.2222\n",
      "Epoch 182/300\n",
      "31/31 [==============================] - 2s 66ms/step - loss: 1.5165 - mae: 0.8477 - customMetric: 321.8412 - val_loss: 2.5471 - val_mae: 1.0771 - val_customMetric: 125.0167\n",
      "Epoch 183/300\n",
      "31/31 [==============================] - 2s 66ms/step - loss: 1.5207 - mae: 0.8490 - customMetric: 321.0939 - val_loss: 2.4889 - val_mae: 1.0630 - val_customMetric: 124.7626\n",
      "Epoch 184/300\n",
      "31/31 [==============================] - 2s 68ms/step - loss: 1.5302 - mae: 0.8497 - customMetric: 331.2726 - val_loss: 2.5330 - val_mae: 1.0821 - val_customMetric: 123.4052\n",
      "Epoch 185/300\n",
      "31/31 [==============================] - 2s 66ms/step - loss: 1.5249 - mae: 0.8480 - customMetric: 336.5428 - val_loss: 2.4043 - val_mae: 1.0519 - val_customMetric: 121.7829\n",
      "Epoch 186/300\n",
      "31/31 [==============================] - 2s 66ms/step - loss: 1.5204 - mae: 0.8491 - customMetric: 327.5922 - val_loss: 2.4253 - val_mae: 1.0484 - val_customMetric: 120.2546\n",
      "Epoch 187/300\n",
      "31/31 [==============================] - 2s 66ms/step - loss: 1.4776 - mae: 0.8325 - customMetric: 326.6081 - val_loss: 2.4372 - val_mae: 1.0519 - val_customMetric: 121.3991\n",
      "Epoch 188/300\n",
      "31/31 [==============================] - 2s 65ms/step - loss: 1.5131 - mae: 0.8410 - customMetric: 320.4386 - val_loss: 2.4834 - val_mae: 1.0713 - val_customMetric: 124.1330\n",
      "Epoch 189/300\n",
      "31/31 [==============================] - 2s 67ms/step - loss: 1.5495 - mae: 0.8537 - customMetric: 314.0704 - val_loss: 2.5527 - val_mae: 1.0734 - val_customMetric: 125.6520\n",
      "Epoch 190/300\n",
      "31/31 [==============================] - 2s 66ms/step - loss: 1.5448 - mae: 0.8553 - customMetric: 321.2975 - val_loss: 2.4186 - val_mae: 1.0497 - val_customMetric: 118.9009\n",
      "Epoch 191/300\n",
      "31/31 [==============================] - 2s 66ms/step - loss: 1.5453 - mae: 0.8528 - customMetric: 319.0620 - val_loss: 2.4093 - val_mae: 1.0533 - val_customMetric: 120.5071\n",
      "Epoch 192/300\n",
      "31/31 [==============================] - 2s 66ms/step - loss: 1.5049 - mae: 0.8451 - customMetric: 324.6524 - val_loss: 2.4336 - val_mae: 1.0550 - val_customMetric: 121.3906\n",
      "Epoch 193/300\n",
      "31/31 [==============================] - 2s 66ms/step - loss: 1.4888 - mae: 0.8340 - customMetric: 308.3372 - val_loss: 2.4482 - val_mae: 1.0630 - val_customMetric: 123.3917\n",
      "Epoch 194/300\n",
      "31/31 [==============================] - 2s 66ms/step - loss: 1.4845 - mae: 0.8357 - customMetric: 324.0446 - val_loss: 2.5103 - val_mae: 1.0755 - val_customMetric: 123.1319\n",
      "Epoch 195/300\n",
      "31/31 [==============================] - 2s 66ms/step - loss: 1.4895 - mae: 0.8373 - customMetric: 312.1983 - val_loss: 2.3835 - val_mae: 1.0462 - val_customMetric: 123.2465\n",
      "Epoch 196/300\n",
      "31/31 [==============================] - 2s 66ms/step - loss: 1.5506 - mae: 0.8573 - customMetric: 309.1661 - val_loss: 2.5285 - val_mae: 1.0715 - val_customMetric: 125.7150\n",
      "Epoch 197/300\n",
      "31/31 [==============================] - 2s 66ms/step - loss: 1.4958 - mae: 0.8369 - customMetric: 320.5057 - val_loss: 2.4997 - val_mae: 1.0678 - val_customMetric: 125.7452\n",
      "Epoch 198/300\n",
      "31/31 [==============================] - 2s 66ms/step - loss: 1.4647 - mae: 0.8314 - customMetric: 320.9336 - val_loss: 2.5539 - val_mae: 1.0826 - val_customMetric: 124.8950\n",
      "Epoch 199/300\n",
      "31/31 [==============================] - 2s 66ms/step - loss: 1.4763 - mae: 0.8368 - customMetric: 319.1652 - val_loss: 2.5111 - val_mae: 1.0725 - val_customMetric: 127.8159\n",
      "Epoch 200/300\n",
      "31/31 [==============================] - 2s 67ms/step - loss: 1.4766 - mae: 0.8370 - customMetric: 319.9210 - val_loss: 2.4815 - val_mae: 1.0685 - val_customMetric: 126.4747\n",
      "Epoch 201/300\n",
      "31/31 [==============================] - 2s 66ms/step - loss: 1.5126 - mae: 0.8404 - customMetric: 336.2035 - val_loss: 2.5462 - val_mae: 1.0787 - val_customMetric: 123.1099\n",
      "Epoch 202/300\n",
      "31/31 [==============================] - 2s 66ms/step - loss: 1.5225 - mae: 0.8475 - customMetric: 317.9642 - val_loss: 2.5188 - val_mae: 1.0704 - val_customMetric: 129.3841\n",
      "Epoch 203/300\n",
      "31/31 [==============================] - 2s 66ms/step - loss: 1.4764 - mae: 0.8314 - customMetric: 315.7915 - val_loss: 2.5076 - val_mae: 1.0730 - val_customMetric: 127.2826\n",
      "Epoch 204/300\n",
      "31/31 [==============================] - 2s 66ms/step - loss: 1.5030 - mae: 0.8438 - customMetric: 314.8130 - val_loss: 2.5002 - val_mae: 1.0712 - val_customMetric: 125.1951\n",
      "Epoch 205/300\n",
      "31/31 [==============================] - 2s 66ms/step - loss: 1.5627 - mae: 0.8576 - customMetric: 319.4727 - val_loss: 2.5009 - val_mae: 1.0665 - val_customMetric: 123.6826\n",
      "Epoch 206/300\n",
      "31/31 [==============================] - 2s 67ms/step - loss: 1.4762 - mae: 0.8358 - customMetric: 318.7925 - val_loss: 2.4928 - val_mae: 1.0670 - val_customMetric: 122.0338\n",
      "Epoch 207/300\n",
      "31/31 [==============================] - 2s 65ms/step - loss: 1.4648 - mae: 0.8294 - customMetric: 333.1911 - val_loss: 2.5222 - val_mae: 1.0736 - val_customMetric: 124.6440\n",
      "Epoch 208/300\n",
      "31/31 [==============================] - 2s 66ms/step - loss: 1.4860 - mae: 0.8347 - customMetric: 324.2525 - val_loss: 2.4712 - val_mae: 1.0660 - val_customMetric: 122.5270\n",
      "Epoch 209/300\n",
      "31/31 [==============================] - 2s 65ms/step - loss: 1.5258 - mae: 0.8466 - customMetric: 320.6172 - val_loss: 2.4421 - val_mae: 1.0531 - val_customMetric: 121.1015\n",
      "Epoch 210/300\n",
      "31/31 [==============================] - 2s 66ms/step - loss: 1.4724 - mae: 0.8356 - customMetric: 334.5896 - val_loss: 2.4786 - val_mae: 1.0620 - val_customMetric: 125.2589\n",
      "Epoch 211/300\n",
      "31/31 [==============================] - 2s 67ms/step - loss: 1.4868 - mae: 0.8350 - customMetric: 317.6524 - val_loss: 2.6025 - val_mae: 1.0903 - val_customMetric: 127.6273\n",
      "Epoch 212/300\n",
      "31/31 [==============================] - 2s 65ms/step - loss: 1.5147 - mae: 0.8446 - customMetric: 322.4891 - val_loss: 2.4162 - val_mae: 1.0605 - val_customMetric: 127.9955\n",
      "Epoch 213/300\n",
      "31/31 [==============================] - 2s 66ms/step - loss: 1.4763 - mae: 0.8375 - customMetric: 313.9447 - val_loss: 2.4756 - val_mae: 1.0602 - val_customMetric: 124.7397\n",
      "Epoch 214/300\n",
      "31/31 [==============================] - 2s 66ms/step - loss: 1.5434 - mae: 0.8515 - customMetric: 346.4413 - val_loss: 2.5280 - val_mae: 1.0823 - val_customMetric: 120.4896\n",
      "Epoch 215/300\n",
      "31/31 [==============================] - 2s 66ms/step - loss: 1.5409 - mae: 0.8576 - customMetric: 323.4010 - val_loss: 2.5523 - val_mae: 1.0814 - val_customMetric: 123.4713\n",
      "Epoch 216/300\n",
      "31/31 [==============================] - 2s 66ms/step - loss: 1.6931 - mae: 0.8941 - customMetric: 374.7745 - val_loss: 2.4361 - val_mae: 1.0627 - val_customMetric: 121.6224\n",
      "Epoch 217/300\n",
      "31/31 [==============================] - 2s 66ms/step - loss: 1.5087 - mae: 0.8467 - customMetric: 317.6028 - val_loss: 2.4956 - val_mae: 1.0693 - val_customMetric: 126.3685\n",
      "Epoch 218/300\n",
      "31/31 [==============================] - 2s 67ms/step - loss: 1.5277 - mae: 0.8524 - customMetric: 324.3800 - val_loss: 2.4843 - val_mae: 1.0619 - val_customMetric: 127.0290\n",
      "Epoch 219/300\n",
      "31/31 [==============================] - 2s 66ms/step - loss: 1.4601 - mae: 0.8286 - customMetric: 312.6167 - val_loss: 2.5364 - val_mae: 1.0691 - val_customMetric: 124.8909\n",
      "Epoch 220/300\n",
      "31/31 [==============================] - 2s 66ms/step - loss: 1.4651 - mae: 0.8284 - customMetric: 313.5571 - val_loss: 2.5258 - val_mae: 1.0695 - val_customMetric: 126.2202\n",
      "Epoch 221/300\n",
      "31/31 [==============================] - 2s 65ms/step - loss: 1.4970 - mae: 0.8391 - customMetric: 334.6247 - val_loss: 2.4969 - val_mae: 1.0748 - val_customMetric: 128.1648\n",
      "Epoch 222/300\n",
      "31/31 [==============================] - 2s 66ms/step - loss: 1.4700 - mae: 0.8338 - customMetric: 319.8994 - val_loss: 2.5549 - val_mae: 1.0719 - val_customMetric: 129.5571\n",
      "Epoch 223/300\n",
      "31/31 [==============================] - 2s 66ms/step - loss: 1.4539 - mae: 0.8262 - customMetric: 324.3627 - val_loss: 2.5312 - val_mae: 1.0735 - val_customMetric: 128.5919\n",
      "Epoch 224/300\n",
      "31/31 [==============================] - 2s 66ms/step - loss: 1.5015 - mae: 0.8406 - customMetric: 333.0388 - val_loss: 2.4984 - val_mae: 1.0580 - val_customMetric: 126.4495\n",
      "Epoch 225/300\n",
      "31/31 [==============================] - 2s 66ms/step - loss: 1.4956 - mae: 0.8400 - customMetric: 313.3147 - val_loss: 2.5849 - val_mae: 1.0806 - val_customMetric: 129.8968\n",
      "Epoch 226/300\n",
      "31/31 [==============================] - 2s 66ms/step - loss: 1.5417 - mae: 0.8532 - customMetric: 308.7697 - val_loss: 2.4905 - val_mae: 1.0689 - val_customMetric: 132.5913\n",
      "Epoch 227/300\n",
      "31/31 [==============================] - 2s 65ms/step - loss: 1.5340 - mae: 0.8523 - customMetric: 325.6747 - val_loss: 2.4690 - val_mae: 1.0610 - val_customMetric: 121.3764\n",
      "Epoch 228/300\n",
      "31/31 [==============================] - 2s 66ms/step - loss: 1.5353 - mae: 0.8542 - customMetric: 340.7946 - val_loss: 2.4429 - val_mae: 1.0555 - val_customMetric: 124.9611\n",
      "Epoch 229/300\n",
      "31/31 [==============================] - 2s 65ms/step - loss: 1.5741 - mae: 0.8639 - customMetric: 311.2161 - val_loss: 2.5241 - val_mae: 1.0706 - val_customMetric: 124.8846\n",
      "Epoch 230/300\n",
      "31/31 [==============================] - 2s 66ms/step - loss: 1.5606 - mae: 0.8656 - customMetric: 341.3589 - val_loss: 2.5975 - val_mae: 1.0858 - val_customMetric: 127.4331\n",
      "Epoch 231/300\n",
      "31/31 [==============================] - 2s 65ms/step - loss: 1.4765 - mae: 0.8366 - customMetric: 315.7485 - val_loss: 2.5178 - val_mae: 1.0679 - val_customMetric: 131.0736\n",
      "Epoch 232/300\n",
      "31/31 [==============================] - 2s 65ms/step - loss: 1.4547 - mae: 0.8275 - customMetric: 322.4809 - val_loss: 2.4251 - val_mae: 1.0508 - val_customMetric: 125.0740\n",
      "Epoch 233/300\n",
      "31/31 [==============================] - 2s 67ms/step - loss: 1.4477 - mae: 0.8283 - customMetric: 323.7813 - val_loss: 2.4946 - val_mae: 1.0674 - val_customMetric: 126.1010\n",
      "Epoch 234/300\n",
      "31/31 [==============================] - 2s 67ms/step - loss: 1.4611 - mae: 0.8280 - customMetric: 301.9543 - val_loss: 2.5405 - val_mae: 1.0719 - val_customMetric: 127.6184\n",
      "Epoch 235/300\n",
      "31/31 [==============================] - 2s 66ms/step - loss: 1.4414 - mae: 0.8264 - customMetric: 327.4207 - val_loss: 2.5103 - val_mae: 1.0688 - val_customMetric: 127.8432\n",
      "Epoch 236/300\n",
      "31/31 [==============================] - 2s 67ms/step - loss: 1.4511 - mae: 0.8256 - customMetric: 312.6367 - val_loss: 2.5334 - val_mae: 1.0808 - val_customMetric: 125.8177\n",
      "Epoch 237/300\n",
      "31/31 [==============================] - 2s 66ms/step - loss: 1.4838 - mae: 0.8392 - customMetric: 338.8477 - val_loss: 2.5751 - val_mae: 1.0834 - val_customMetric: 126.1887\n",
      "Epoch 238/300\n",
      "31/31 [==============================] - 2s 67ms/step - loss: 1.5143 - mae: 0.8464 - customMetric: 306.3755 - val_loss: 2.4797 - val_mae: 1.0717 - val_customMetric: 126.8864\n",
      "Epoch 239/300\n",
      "31/31 [==============================] - 2s 66ms/step - loss: 1.4500 - mae: 0.8292 - customMetric: 321.7752 - val_loss: 2.5622 - val_mae: 1.0756 - val_customMetric: 128.6951\n",
      "Epoch 240/300\n",
      "31/31 [==============================] - 2s 66ms/step - loss: 1.4429 - mae: 0.8222 - customMetric: 310.8346 - val_loss: 2.5176 - val_mae: 1.0725 - val_customMetric: 125.7834\n",
      "Epoch 241/300\n",
      "31/31 [==============================] - 2s 66ms/step - loss: 1.4370 - mae: 0.8222 - customMetric: 314.9257 - val_loss: 2.5408 - val_mae: 1.0732 - val_customMetric: 135.0276\n",
      "Epoch 242/300\n",
      "31/31 [==============================] - 2s 66ms/step - loss: 1.4394 - mae: 0.8245 - customMetric: 322.2247 - val_loss: 2.5530 - val_mae: 1.0675 - val_customMetric: 129.1112\n",
      "Epoch 243/300\n",
      "31/31 [==============================] - 2s 67ms/step - loss: 1.4603 - mae: 0.8281 - customMetric: 325.9026 - val_loss: 2.5275 - val_mae: 1.0666 - val_customMetric: 133.8566\n",
      "Epoch 244/300\n",
      "31/31 [==============================] - 2s 67ms/step - loss: 1.4815 - mae: 0.8363 - customMetric: 325.8992 - val_loss: 2.5232 - val_mae: 1.0730 - val_customMetric: 128.7036\n",
      "Epoch 245/300\n",
      "31/31 [==============================] - 2s 66ms/step - loss: 1.4194 - mae: 0.8158 - customMetric: 323.2347 - val_loss: 2.4926 - val_mae: 1.0597 - val_customMetric: 128.3356\n",
      "Epoch 246/300\n",
      "31/31 [==============================] - 2s 68ms/step - loss: 1.4344 - mae: 0.8221 - customMetric: 318.2752 - val_loss: 2.4816 - val_mae: 1.0593 - val_customMetric: 125.5473\n",
      "Epoch 247/300\n",
      "31/31 [==============================] - 2s 66ms/step - loss: 1.4524 - mae: 0.8231 - customMetric: 321.2997 - val_loss: 2.6495 - val_mae: 1.0888 - val_customMetric: 130.9634\n",
      "Epoch 248/300\n",
      "31/31 [==============================] - 2s 66ms/step - loss: 1.4964 - mae: 0.8365 - customMetric: 317.9081 - val_loss: 2.5484 - val_mae: 1.0752 - val_customMetric: 124.5463\n",
      "Epoch 249/300\n",
      "31/31 [==============================] - 2s 66ms/step - loss: 1.4342 - mae: 0.8260 - customMetric: 318.4743 - val_loss: 2.4959 - val_mae: 1.0579 - val_customMetric: 127.0400\n",
      "Epoch 250/300\n",
      "31/31 [==============================] - 2s 66ms/step - loss: 1.4796 - mae: 0.8331 - customMetric: 323.4222 - val_loss: 2.5564 - val_mae: 1.0729 - val_customMetric: 131.5301\n",
      "Epoch 251/300\n",
      "31/31 [==============================] - 2s 66ms/step - loss: 1.4769 - mae: 0.8324 - customMetric: 309.4822 - val_loss: 2.7434 - val_mae: 1.1109 - val_customMetric: 128.1223\n",
      "Epoch 252/300\n",
      "31/31 [==============================] - 2s 66ms/step - loss: 1.5941 - mae: 0.8635 - customMetric: 304.5115 - val_loss: 2.5540 - val_mae: 1.0799 - val_customMetric: 126.6490\n",
      "Epoch 253/300\n",
      "31/31 [==============================] - 2s 66ms/step - loss: 1.4084 - mae: 0.8158 - customMetric: 325.0254 - val_loss: 2.5379 - val_mae: 1.0698 - val_customMetric: 131.1633\n",
      "Epoch 254/300\n",
      "31/31 [==============================] - 2s 66ms/step - loss: 1.4018 - mae: 0.8082 - customMetric: 328.0732 - val_loss: 2.5145 - val_mae: 1.0633 - val_customMetric: 127.8206\n",
      "Epoch 255/300\n",
      "31/31 [==============================] - 2s 66ms/step - loss: 1.4271 - mae: 0.8219 - customMetric: 325.2466 - val_loss: 2.5595 - val_mae: 1.0701 - val_customMetric: 127.7407\n",
      "Epoch 256/300\n",
      "31/31 [==============================] - 2s 66ms/step - loss: 1.4448 - mae: 0.8225 - customMetric: 305.9375 - val_loss: 2.5907 - val_mae: 1.0734 - val_customMetric: 132.8255\n",
      "Epoch 257/300\n",
      "31/31 [==============================] - 2s 66ms/step - loss: 1.5876 - mae: 0.8672 - customMetric: 328.4104 - val_loss: 2.5861 - val_mae: 1.1036 - val_customMetric: 126.6931\n",
      "Epoch 258/300\n",
      "31/31 [==============================] - 2s 66ms/step - loss: 1.4411 - mae: 0.8262 - customMetric: 328.1991 - val_loss: 2.5299 - val_mae: 1.0662 - val_customMetric: 124.0424\n",
      "Epoch 259/300\n",
      "31/31 [==============================] - 2s 66ms/step - loss: 1.4635 - mae: 0.8329 - customMetric: 327.6855 - val_loss: 2.5318 - val_mae: 1.0637 - val_customMetric: 125.3630\n",
      "Epoch 260/300\n",
      "31/31 [==============================] - 2s 66ms/step - loss: 1.4588 - mae: 0.8246 - customMetric: 320.2766 - val_loss: 2.4807 - val_mae: 1.0587 - val_customMetric: 120.2451\n",
      "Epoch 261/300\n",
      "31/31 [==============================] - 2s 66ms/step - loss: 1.4892 - mae: 0.8392 - customMetric: 343.7512 - val_loss: 2.5042 - val_mae: 1.0862 - val_customMetric: 122.2715\n",
      "Epoch 262/300\n",
      "31/31 [==============================] - 2s 66ms/step - loss: 1.6132 - mae: 0.8761 - customMetric: 370.3020 - val_loss: 2.5329 - val_mae: 1.0647 - val_customMetric: 119.2544\n",
      "Epoch 263/300\n",
      "31/31 [==============================] - 2s 67ms/step - loss: 1.4409 - mae: 0.8210 - customMetric: 311.5073 - val_loss: 2.5431 - val_mae: 1.0772 - val_customMetric: 127.9817\n",
      "Epoch 264/300\n",
      "31/31 [==============================] - 2s 66ms/step - loss: 1.4366 - mae: 0.8195 - customMetric: 320.5945 - val_loss: 2.6995 - val_mae: 1.0995 - val_customMetric: 133.3675\n",
      "Epoch 265/300\n",
      "31/31 [==============================] - 2s 66ms/step - loss: 1.5917 - mae: 0.8634 - customMetric: 307.8835 - val_loss: 2.5080 - val_mae: 1.0582 - val_customMetric: 127.8271\n",
      "Epoch 266/300\n",
      "31/31 [==============================] - 2s 66ms/step - loss: 1.4417 - mae: 0.8268 - customMetric: 336.1761 - val_loss: 2.5752 - val_mae: 1.0841 - val_customMetric: 143.8025\n",
      "Epoch 267/300\n",
      "31/31 [==============================] - 2s 66ms/step - loss: 1.4298 - mae: 0.8187 - customMetric: 321.2876 - val_loss: 2.5256 - val_mae: 1.0678 - val_customMetric: 130.6363\n",
      "Epoch 268/300\n",
      "31/31 [==============================] - 2s 66ms/step - loss: 1.6430 - mae: 0.8848 - customMetric: 362.5235 - val_loss: 2.5372 - val_mae: 1.0642 - val_customMetric: 125.0153\n",
      "Epoch 269/300\n",
      "31/31 [==============================] - 2s 66ms/step - loss: 1.4747 - mae: 0.8290 - customMetric: 308.2147 - val_loss: 2.5337 - val_mae: 1.0724 - val_customMetric: 128.8956\n",
      "Epoch 270/300\n",
      "31/31 [==============================] - 2s 65ms/step - loss: 1.5095 - mae: 0.8415 - customMetric: 343.1362 - val_loss: 2.4882 - val_mae: 1.0667 - val_customMetric: 125.1864\n",
      "Epoch 271/300\n",
      "31/31 [==============================] - 2s 66ms/step - loss: 1.4179 - mae: 0.8145 - customMetric: 323.8632 - val_loss: 2.4839 - val_mae: 1.0568 - val_customMetric: 126.4499\n",
      "Epoch 272/300\n",
      "31/31 [==============================] - 2s 65ms/step - loss: 1.4844 - mae: 0.8350 - customMetric: 347.3723 - val_loss: 2.5074 - val_mae: 1.0587 - val_customMetric: 120.5494\n",
      "Epoch 273/300\n",
      "31/31 [==============================] - 2s 66ms/step - loss: 1.4628 - mae: 0.8327 - customMetric: 318.1916 - val_loss: 2.5500 - val_mae: 1.0710 - val_customMetric: 127.6194\n",
      "Epoch 274/300\n",
      "31/31 [==============================] - 2s 66ms/step - loss: 1.3928 - mae: 0.8091 - customMetric: 319.1402 - val_loss: 2.5095 - val_mae: 1.0626 - val_customMetric: 129.0320\n",
      "Epoch 275/300\n",
      "31/31 [==============================] - 2s 66ms/step - loss: 1.3836 - mae: 0.8051 - customMetric: 316.9843 - val_loss: 2.5305 - val_mae: 1.0645 - val_customMetric: 129.7105\n",
      "Epoch 276/300\n",
      "31/31 [==============================] - 2s 66ms/step - loss: 1.3877 - mae: 0.8075 - customMetric: 328.6670 - val_loss: 2.5322 - val_mae: 1.0697 - val_customMetric: 127.6785\n",
      "Epoch 277/300\n",
      "31/31 [==============================] - 2s 66ms/step - loss: 1.3992 - mae: 0.8075 - customMetric: 318.8499 - val_loss: 2.5294 - val_mae: 1.0674 - val_customMetric: 134.6349\n",
      "Epoch 278/300\n",
      "31/31 [==============================] - 2s 66ms/step - loss: 1.4668 - mae: 0.8279 - customMetric: 318.2171 - val_loss: 2.6156 - val_mae: 1.0864 - val_customMetric: 134.2899\n",
      "Epoch 279/300\n",
      "31/31 [==============================] - 2s 66ms/step - loss: 1.4545 - mae: 0.8288 - customMetric: 310.5666 - val_loss: 2.6138 - val_mae: 1.0852 - val_customMetric: 129.6155\n",
      "Epoch 280/300\n",
      "31/31 [==============================] - 2s 66ms/step - loss: 1.3969 - mae: 0.8096 - customMetric: 320.8035 - val_loss: 2.5090 - val_mae: 1.0601 - val_customMetric: 131.0554\n",
      "Epoch 281/300\n",
      "31/31 [==============================] - 2s 66ms/step - loss: 1.3740 - mae: 0.8031 - customMetric: 321.0265 - val_loss: 2.5345 - val_mae: 1.0680 - val_customMetric: 129.9326\n",
      "Epoch 282/300\n",
      "31/31 [==============================] - 2s 65ms/step - loss: 1.4129 - mae: 0.8103 - customMetric: 309.6738 - val_loss: 2.5615 - val_mae: 1.0719 - val_customMetric: 132.1467\n",
      "Epoch 283/300\n",
      "31/31 [==============================] - 2s 65ms/step - loss: 1.4839 - mae: 0.8334 - customMetric: 337.8780 - val_loss: 2.5395 - val_mae: 1.0696 - val_customMetric: 127.3310\n",
      "Epoch 284/300\n",
      "31/31 [==============================] - 2s 66ms/step - loss: 1.4116 - mae: 0.8139 - customMetric: 305.6561 - val_loss: 2.4676 - val_mae: 1.0580 - val_customMetric: 125.3975\n",
      "Epoch 285/300\n",
      "31/31 [==============================] - 2s 66ms/step - loss: 1.4504 - mae: 0.8240 - customMetric: 320.2701 - val_loss: 2.6752 - val_mae: 1.1021 - val_customMetric: 129.5876\n",
      "Epoch 286/300\n",
      "31/31 [==============================] - 2s 66ms/step - loss: 2.3468 - mae: 1.0772 - customMetric: 397.3671 - val_loss: 2.7645 - val_mae: 1.1927 - val_customMetric: 128.4535\n",
      "Epoch 287/300\n",
      "31/31 [==============================] - 2s 67ms/step - loss: 2.2147 - mae: 1.0613 - customMetric: 331.4926 - val_loss: 2.8214 - val_mae: 1.1933 - val_customMetric: 147.5588\n",
      "Epoch 288/300\n",
      "31/31 [==============================] - 2s 67ms/step - loss: 2.2336 - mae: 1.0723 - customMetric: 379.5276 - val_loss: 2.6360 - val_mae: 1.1642 - val_customMetric: 119.7936\n",
      "Epoch 289/300\n",
      "31/31 [==============================] - 2s 66ms/step - loss: 1.9607 - mae: 0.9940 - customMetric: 344.4291 - val_loss: 2.5654 - val_mae: 1.1328 - val_customMetric: 120.9955\n",
      "Epoch 290/300\n",
      "31/31 [==============================] - 2s 66ms/step - loss: 1.7429 - mae: 0.9285 - customMetric: 335.2001 - val_loss: 2.4781 - val_mae: 1.0817 - val_customMetric: 119.9582\n",
      "Epoch 291/300\n",
      "31/31 [==============================] - 2s 66ms/step - loss: 1.6708 - mae: 0.8901 - customMetric: 304.4157 - val_loss: 2.4949 - val_mae: 1.0811 - val_customMetric: 134.6009\n",
      "Epoch 292/300\n",
      "31/31 [==============================] - 2s 66ms/step - loss: 1.5177 - mae: 0.8520 - customMetric: 311.1703 - val_loss: 2.4948 - val_mae: 1.0730 - val_customMetric: 125.9242\n",
      "Epoch 293/300\n",
      "31/31 [==============================] - 2s 66ms/step - loss: 1.4154 - mae: 0.8180 - customMetric: 304.5207 - val_loss: 2.4368 - val_mae: 1.0566 - val_customMetric: 128.0394\n",
      "Epoch 294/300\n",
      "31/31 [==============================] - 2s 66ms/step - loss: 1.3845 - mae: 0.8087 - customMetric: 310.5189 - val_loss: 2.5332 - val_mae: 1.0677 - val_customMetric: 129.0188\n",
      "Epoch 295/300\n",
      "31/31 [==============================] - 2s 66ms/step - loss: 1.3922 - mae: 0.8070 - customMetric: 312.1512 - val_loss: 2.5523 - val_mae: 1.0707 - val_customMetric: 126.6499\n",
      "Epoch 296/300\n",
      "31/31 [==============================] - 2s 66ms/step - loss: 1.3988 - mae: 0.8074 - customMetric: 320.4986 - val_loss: 2.5269 - val_mae: 1.0723 - val_customMetric: 129.2285\n",
      "Epoch 297/300\n",
      "31/31 [==============================] - 2s 66ms/step - loss: 1.4070 - mae: 0.8099 - customMetric: 313.2878 - val_loss: 2.4956 - val_mae: 1.0572 - val_customMetric: 123.9285\n",
      "Epoch 298/300\n",
      "31/31 [==============================] - 2s 66ms/step - loss: 1.3686 - mae: 0.8020 - customMetric: 314.6987 - val_loss: 2.5654 - val_mae: 1.0711 - val_customMetric: 126.9374\n",
      "Epoch 299/300\n",
      "31/31 [==============================] - 2s 67ms/step - loss: 1.3775 - mae: 0.8027 - customMetric: 316.6143 - val_loss: 2.5016 - val_mae: 1.0581 - val_customMetric: 126.9045\n",
      "Epoch 300/300\n",
      "31/31 [==============================] - 2s 66ms/step - loss: 1.3752 - mae: 0.8029 - customMetric: 312.5983 - val_loss: 2.5305 - val_mae: 1.0679 - val_customMetric: 125.6872\n"
     ]
    }
   ],
   "source": [
    "H_t = []\n",
    "index = 1\n",
    "\n",
    "# Using custom loss and gen\n",
    "es = keras.callbacks.EarlyStopping(monitor='loss', min_delta=0.01, patience=25, mode='min', verbose=1, restore_best_weights=True)\n",
    "# H = model.fit(x=x_train, y=y_train, batch_size=64, epochs=300, validation_data=(x_test, y_test), verbose=1, callbacks=[es])\n",
    "# H = model.fit(x=x_train, y=y_train, batch_size=64, epochs=300, shuffle=True, verbose=1, callbacks=[es])\n",
    "# H = model.fit(x=x_train, y=y_train[:,2], batch_size=256, epochs=300, verbose=1, shuffle=True, callbacks=[es])\n",
    "# H_t.append(model.fit(x=x_train, y=y_train[:,2], batch_size=256, epochs=300, verbose=1, shuffle=True, callbacks=[es]).history)\n",
    "# H_t.append(model.fit(x=x_train, y=y_train[:,index], batch_size=256, epochs=300, verbose=1, shuffle=True, callbacks=[es]).history)\n",
    "H_t.append(model.fit(x=x_train, y=y_train, batch_size=256, epochs=300, verbose=1, validation_data=(x_test, y_test), shuffle=True).history)\n",
    "# model.fit(x=[x_train[0],x_train[1],x_train[2],np.expand_dims(x_train[3][:,index],-1)], y=y_train[:,index], batch_size=256, epochs=300, verbose=1, shuffle=True)\n",
    "if H == None:\n",
    "  H = H_t[-1]\n",
    "else:\n",
    "  H = concat_hist(H,H_t[-1])\n",
    "final_loss = round(H[\"loss\"][-1],2)\n",
    "# H = model.fit(x=x_train, y=y_train, batch_size=64, epochs=100, validation_data=test_gen, validation_steps=50, validation_batch_size=32, verbose=1)\n",
    "\n",
    "# Example how it kind of looks like\n",
    "# H = model.fit(x=[x_train, invCov, y_train], y=y_train, batch_size=64, epochs=100, verbose=1)\n",
    "\n",
    "# Overfit\n",
    "# es = keras.callbacks.EarlyStopping(monitor='loss', min_delta=0.001, patience=100, mode='min', verbose=1, restore_best_weights=True)\n",
    "# H = model.fit(x=x_train, y=y_train, batch_size=1, epochs=100, verbose=1, callbacks=[es])\n",
    "# H = model.fit(x=x_train, y=y_train, batch_size=1, epochs=100, verbose=1, validation_data=(x_test,y_test), callbacks=[es])\n"
   ]
  },
  {
   "cell_type": "markdown",
   "metadata": {
    "id": "XZ5XBwDV7MGY"
   },
   "source": [
    "# Save model"
   ]
  },
  {
   "cell_type": "code",
   "execution_count": 21,
   "metadata": {},
   "outputs": [],
   "source": [
    "model_index = 1\n",
    "date = \"03-08\"\n",
    "final_loss = 0\n",
    "def gen_name(m_type):\n",
    "    global model_index, index, date, final_loss\n",
    "    variable = [\"q_pt\",\"phi\",\"tanl\",\"D\",\"z\"][index]\n",
    "    m_str = \"models/\" + str(date) + \"-2021_\" + str(variable) + \"-\" + str(model_index) + \"_loss=\" + str(final_loss) + \".\" + str(m_type)\n",
    "    model_index+=1 # create a check for if file exists, for now just increment\n",
    "    return m_str"
   ]
  },
  {
   "cell_type": "code",
   "execution_count": null,
   "metadata": {
    "id": "xWvST6o27MYI"
   },
   "outputs": [],
   "source": [
    "# model.save('model.h5', save_format=\"h5\")\n",
    "# TODO check if file exists, increment counter\n",
    "# model.save('drive/MyDrive/Models/RealRNN_1-3-2021_141Ep_Onlytanl-2.h5', save_format=\"h5\")\n",
    "model.save(gen_name(\"h5\"), save_format=\"h5\")"
   ]
  },
  {
   "cell_type": "markdown",
   "metadata": {
    "id": "o6LGBSia7fg3"
   },
   "source": [
    "## Graph loss and mae"
   ]
  },
  {
   "cell_type": "code",
   "execution_count": 24,
   "metadata": {
    "colab": {
     "base_uri": "https://localhost:8080/",
     "height": 704
    },
    "id": "OUPAStLMtq7m",
    "outputId": "d4bada3c-6f91-4a9c-b6d7-d7abe8cc1689"
   },
   "outputs": [
    {
     "name": "stdout",
     "output_type": "stream",
     "text": [
      "dict_keys(['loss', 'mae', 'customMetric', 'val_loss', 'val_mae', 'val_customMetric'])\n"
     ]
    },
    {
     "data": {
      "image/png": "[encoded data removed]",
      "text/plain": [
       "<Figure size 360x1080 with 3 Axes>"
      ]
     },
     "metadata": {
      "needs_background": "light"
     },
     "output_type": "display_data"
    }
   ],
   "source": [
    "print(H.keys())\n",
    "# print(\"loss: \", H[\"loss\"])\n",
    "# print(\"mae: \", H[\"mae\"])\n",
    "# print(\"val_loss: \", H.history[\"val_loss\"])\n",
    "# print(\"val_mae: \", H.history[\"val_mae\"])\n",
    "\n",
    "lim = 0\n",
    "\n",
    "fig, ax = plt.subplots(3,1,figsize=(5,15))\n",
    "fig.subplots_adjust(hspace=0.35)\n",
    "\n",
    "ax[0].plot(H[\"loss\"][lim:])\n",
    "ax[0].plot(H[\"val_loss\"][lim:])\n",
    "ax[0].set_title(\"loss vs epoch\", fontsize=20)\n",
    "ax[0].set_xlabel(\"epoch\", fontsize=15)\n",
    "ax[0].set_ylabel(\"loss\", fontsize=15)\n",
    "ax[0].legend([\"train\",\"val\"])\n",
    "ax[0].grid(True)\n",
    "\n",
    "\n",
    "ax[1].plot(H[\"mae\"][lim:])\n",
    "ax[1].plot(H[\"val_mae\"][lim:])\n",
    "ax[1].set_title(\"mae vs epoch\", fontsize=20)\n",
    "ax[1].set_xlabel(\"epoch\", fontsize=15)\n",
    "ax[1].set_ylabel(\"mae\", fontsize=15)\n",
    "ax[1].legend([\"train\",\"val\"])\n",
    "ax[1].grid(True)\n",
    "\n",
    "ax[2].plot(H[\"customMetric\"][lim:])\n",
    "ax[2].plot(H[\"val_customMetric\"][lim:])\n",
    "ax[2].set_title(\"metric vs epoch\", fontsize=20)\n",
    "ax[2].set_xlabel(\"epoch\", fontsize=15)\n",
    "ax[2].set_ylabel(\"metric\", fontsize=15)\n",
    "ax[2].legend([\"train\",\"val\"])\n",
    "ax[2].grid(True)\n",
    "\n",
    "model_index -= 1\n",
    "plt.savefig(gen_name(\"png\"))"
   ]
  },
  {
   "cell_type": "code",
   "execution_count": null,
   "metadata": {},
   "outputs": [],
   "source": [
    "an_array = np.array(list(H.items()))\n",
    "save_array = np.array([an_array[0][1],an_array[1][1]])\n",
    "model_index -= 1\n",
    "np.save(gen_name(\"npy\"),save_array,allow_pickle=True)"
   ]
  },
  {
   "cell_type": "markdown",
   "metadata": {
    "id": "Xw4xzpuKYEld"
   },
   "source": [
    "# Test Model"
   ]
  },
  {
   "cell_type": "code",
   "execution_count": null,
   "metadata": {
    "colab": {
     "base_uri": "https://localhost:8080/"
    },
    "id": "kZHLFMS1YE40",
    "outputId": "09e30fe4-cc1b-444f-83b3-c74d1b923762"
   },
   "outputs": [],
   "source": [
    "np.set_printoptions(suppress=True, precision=3)\n",
    "from time import sleep\n",
    "\n",
    "for i in range(10):\n",
    "  aax = x_train[0][i:i+1]\n",
    "  oax = x_train[1][i:i+1]\n",
    "  cax = x_train[2][i:i+1]\n",
    "  yax = x_train[3][i:i+1]\n",
    "  aay = y_train[i][index]\n",
    "  pred = model.predict([aax, oax, cax, yax])[0][0]\n",
    "  diff = pred - aay\n",
    "  # print(\"i: \",i)\n",
    "  # print(\"aax:  \",aax[0,0])\n",
    "  print(\"aay:  \",aay)\n",
    "  print(\"pred: \",pred)\n",
    "  # print(\"diff: \",diff)\n",
    "  print(\"\")\n",
    "\n",
    "  # plt.plot(aay[0])\n",
    "  # plt.plot(pred[0])\n",
    "  # plt.show()\n",
    "# [Q/PT, phi, tanl, D, z]\n"
   ]
  },
  {
   "cell_type": "markdown",
   "metadata": {
    "id": "T56J0X6g7O2k"
   },
   "source": [
    "# Load Model"
   ]
  },
  {
   "cell_type": "code",
   "execution_count": null,
   "metadata": {
    "id": "zgLQh0jf7Ova"
   },
   "outputs": [],
   "source": [
    "# model.save('drive/MyDrive/RealRNN_1-2-2021_2.h5', save_format=\"h5\")\n",
    "model = keras.models.load_model('drive/MyDrive/Models/RealRNN_1-3-2021_300Ep_Onlyphi.h5')"
   ]
  },
  {
   "cell_type": "markdown",
   "metadata": {
    "id": "X72YH9S87cvW"
   },
   "source": [
    "# Graphs"
   ]
  },
  {
   "cell_type": "code",
   "execution_count": null,
   "metadata": {},
   "outputs": [],
   "source": [
    "print(H.keys())\n",
    "# print(\"loss: \", H[\"loss\"])\n",
    "# print(\"mae: \", H[\"mae\"])\n",
    "# print(\"val_loss: \", H.history[\"val_loss\"])\n",
    "# print(\"val_mae: \", H.history[\"val_mae\"])\n",
    "\n",
    "lim = 0\n",
    "\n",
    "if len(H.keys()) > 4:\n",
    "  # fig, ax = plt.subplots(4,1,figsize=(5,20))\n",
    "  fig, ax = plt.subplots(3,1,figsize=(5,15))\n",
    "  fig.subplots_adjust(hspace=0.35)\n",
    "\n",
    "  ax[0].plot(H[\"loss\"][lim:])\n",
    "  # ax[0].plot(H.history[\"val_loss\"][lim:])\n",
    "  ax[0].set_title(\"loss vs epoch\", fontsize=20)\n",
    "  ax[0].set_xlabel(\"epoch\", fontsize=15)\n",
    "  ax[0].set_ylabel(\"loss\", fontsize=15)\n",
    "  # ax[0].set_yscale(\"log\")\n",
    "  ax[0].legend([\"train\",\"val\"])\n",
    "  ax[0].grid(True)\n",
    "\n",
    "\n",
    "  ax[1].plot(H[\"mae\"][lim:])\n",
    "  # ax[1].plot(H.history[\"val_mae\"][lim:])\n",
    "  ax[1].set_title(\"mae vs epoch\", fontsize=20)\n",
    "  ax[1].set_xlabel(\"epoch\", fontsize=15)\n",
    "  ax[1].set_ylabel(\"mae\", fontsize=15)\n",
    "  ax[1].legend([\"train\",\"val\"])\n",
    "  ax[1].grid(True)\n",
    "\n",
    "  ax[2].plot(H[\"q_pt\"][lim:])\n",
    "  ax[2].plot(H[\"phi\"][lim:])\n",
    "  ax[2].plot(H[\"tanl\"][lim:])\n",
    "  ax[2].plot(H[\"D\"][lim:])\n",
    "  ax[2].plot(H[\"z\"][lim:])\n",
    "  ax[2].set_title(\"data vs epoch\", fontsize=20)\n",
    "  ax[2].set_xlabel(\"epoch\", fontsize=15)\n",
    "  ax[2].set_ylabel(\"data\", fontsize=15)\n",
    "  ax[2].legend([\"q_pt\",\"phi\",\"tanl\",\"D\",\"z\"])\n",
    "  # ax[2].legend([\"phi\",\"tanl\",\"D\",\"z\"])\n",
    "  # ax[2].legend([\"phi\",\"D\",\"z\"])\n",
    "  ax[2].grid(True)\n",
    "\n",
    "  # ax[3].plot(H.history[\"val_q_pt\"][lim:])\n",
    "  # ax[3].plot(H.history[\"val_phi\"][lim:])\n",
    "  # ax[3].plot(H.history[\"val_tanl\"][lim:])\n",
    "  # ax[3].plot(H.history[\"val_D\"][lim:])\n",
    "  # ax[3].plot(H.history[\"val_z\"][lim:])\n",
    "  # ax[3].set_title(\"data vs epoch\", fontsize=20)\n",
    "  # ax[3].set_xlabel(\"epoch\", fontsize=15)\n",
    "  # ax[3].set_ylabel(\"data\", fontsize=15)\n",
    "  # ax[3].legend([\"val_q_pt\",\"val_phi\",\"val_tanl\",\"val_D\",\"val_z\"])\n",
    "  # # ax[3].legend([\"val_phi\",\"val_tanl\",\"val_D\",\"val_z\"])\n",
    "  # # ax[3].legend([\"val_phi\",\"val_D\",\"val_z\"])\n",
    "  # ax[3].grid(True)\n",
    "\n",
    "else:\n",
    "  fig, ax = plt.subplots(2,1,figsize=(5,10))\n",
    "  fig.subplots_adjust(hspace=0.35)\n",
    "\n",
    "  ax[0].plot(H[\"loss\"][lim:])\n",
    "  # ax[0].plot(H.history[\"val_loss\"][lim:])\n",
    "  ax[0].set_title(\"loss vs epoch\", fontsize=20)\n",
    "  ax[0].set_xlabel(\"epoch\", fontsize=15)\n",
    "  ax[0].set_ylabel(\"loss\", fontsize=15)\n",
    "  # ax[0].set_yscale(\"log\")\n",
    "  ax[0].legend([\"train\",\"val\"])\n",
    "  ax[0].grid(True)\n",
    "\n",
    "\n",
    "  ax[1].plot(H[\"mae\"][lim:])\n",
    "  # ax[1].plot(H.history[\"val_mae\"][lim:])\n",
    "  ax[1].set_title(\"mae vs epoch\", fontsize=20)\n",
    "  ax[1].set_xlabel(\"epoch\", fontsize=15)\n",
    "  ax[1].set_ylabel(\"mae\", fontsize=15)\n",
    "  ax[1].legend([\"train\",\"val\"])\n",
    "  ax[1].grid(True)\n"
   ]
  },
  {
   "cell_type": "code",
   "execution_count": null,
   "metadata": {
    "colab": {
     "base_uri": "https://localhost:8080/",
     "height": 704
    },
    "id": "k6XSgSit7dE3",
    "outputId": "b3a1caaf-1b21-4348-bfe7-1315ccb39171"
   },
   "outputs": [],
   "source": [
    "print(H.history.keys())\n",
    "print(\"loss: \", H.history[\"loss\"])\n",
    "print(\"mae: \", H.history[\"mae\"])\n",
    "# print(\"val_loss: \", H.history[\"val_loss\"])\n",
    "# print(\"val_mae: \", H.history[\"val_mae\"])\n",
    "\n",
    "lim = 2\n",
    "\n",
    "fig, ax = plt.subplots(2,1,figsize=(5,10))\n",
    "fig.subplots_adjust(hspace=0.35)\n",
    "\n",
    "ax[0].plot(H.history[\"loss\"][lim:])\n",
    "# ax[0].plot(H.history[\"val_loss\"][lim:])\n",
    "ax[0].set_title(\"loss vs epoch\", fontsize=20)\n",
    "ax[0].set_xlabel(\"epoch\", fontsize=15)\n",
    "ax[0].set_ylabel(\"loss\", fontsize=15)\n",
    "ax[0].set_yscale(\"log\")\n",
    "ax[0].legend([\"train\",\"val\"])\n",
    "ax[0].grid(True)\n",
    "\n",
    "\n",
    "ax[1].plot(H.history[\"mae\"][lim:])\n",
    "# ax[1].plot(H.history[\"val_mae\"][lim:])\n",
    "ax[1].set_title(\"mae vs epoch\", fontsize=20)\n",
    "ax[1].set_xlabel(\"epoch\", fontsize=15)\n",
    "ax[1].set_ylabel(\"mae\", fontsize=15)\n",
    "ax[1].legend([\"train\",\"val\"])\n",
    "ax[1].grid(True)\n"
   ]
  },
  {
   "cell_type": "markdown",
   "metadata": {},
   "source": [
    "## UV GRAPHS"
   ]
  },
  {
   "cell_type": "code",
   "execution_count": null,
   "metadata": {},
   "outputs": [],
   "source": [
    "x_train[0][0].shape[0] # (event,hits,18)"
   ]
  },
  {
   "cell_type": "code",
   "execution_count": null,
   "metadata": {},
   "outputs": [],
   "source": [
    "from time import sleep\n",
    "for z in range(10):\n",
    "    col = 1\n",
    "    row = 2\n",
    "#     fig, ax = plt.subplots(row,col,figsize=(5*col,5*row))\n",
    "    \n",
    "    fig = plt.figure()\n",
    "    gs = fig.add_gridspec(row, col, hspace=0, wspace=0)\n",
    "    ax = gs.subplots(sharex='col', sharey='row')\n",
    "    \n",
    "#     fig.subplots_adjust(hspace=0.5)\n",
    "    u_hits = []\n",
    "    v_hits = []\n",
    "    z_hits = []\n",
    "    for i in range(x_train[0][z].shape[0]):\n",
    "        u_hits.append(x_train[0][z][i][0])\n",
    "        v_hits.append(x_train[0][z][i][1])\n",
    "        z_hits.append(x_train[0][z][i][6])\n",
    "    ax[0].plot(z_hits,u_hits,\"o\")\n",
    "#     ax[0].x_label(\"z_hits\")\n",
    "#     ax[0].y_label(\"u_hits\")\n",
    "    ax[1].plot(z_hits,v_hits,\"o\")\n",
    "#     ax[1].x_label(\"z_hits\")\n",
    "#     ax[1].x_label(\"v_hits\")\n"
   ]
  },
  {
   "cell_type": "markdown",
   "metadata": {
    "id": "QOi6MC8u7swr"
   },
   "source": [
    "# Graphs"
   ]
  },
  {
   "cell_type": "code",
   "execution_count": null,
   "metadata": {
    "id": "Pqqb7Riq7tAY"
   },
   "outputs": [],
   "source": [
    "# Maybe copy over previous function and edit that?\n",
    "def graph(pred, true, diff):\n",
    "\n",
    "  values = [\"u\",\"v\",\"sin(v)\",\"cos(v)\",\"sin(u)\",\"cos(u)\",\"s\",\"ds\",\"wire\",\"glayer\",\"z\",\"time\",\"dE_amp\",\"q\"]\n",
    "  limits = [[\"todo\"]]\n",
    "\n",
    "  size = len(values)\n",
    "\n",
    "  fig, axs = plt.subplots(4,size,figsize=(size*5,20))\n",
    "  fig.subplots_adjust(wspace=0.3, hspace=0.3)\n",
    "\n",
    "\n",
    "  for i in range(size):\n",
    "    (mu, sigma) = norm.fit(diff[:,i])\n",
    "    print(\"data\" , values[i] ,\" |: mu: \", mu, \"sigma: \" , sigma)\n",
    "    _, bins, _ = axs[0,i].hist(diff[:,i], 20, density=True)\n",
    "    y = norm.pdf(bins, mu, sigma)\n",
    "    l = axs[0,i].plot(bins, y, 'r--', linewidth=2)\n",
    "\n",
    "    axs[0,i].set_title(values[i] + ' diff')\n",
    "    axs[0,i].set_ylabel('freq')\n",
    "    axs[0,i].set_xlabel(values[i] + ' diff')\n",
    "\n",
    "  #--------------------------------------\n",
    "  # PREDICTED VS TRUE\n",
    "  #--------------------------------------\n",
    "    \n",
    "  for i in range(size):\n",
    "    axs[1,i].scatter(true[:,i],pred[:,i])\n",
    "    axs[1,i].grid(True)\n",
    "\n",
    "    axs[1,i].set_title(values[i] + ' (predicted vs true)')\n",
    "    axs[1,i].set_ylabel('pred ' + values[i])\n",
    "    axs[1,i].set_xlabel('true ' + values[i])\n",
    "\n",
    "    # axs[1,i].set_xlim(limits[i])\n",
    "    # axs[1,i].set_ylim(limits[i])\n",
    "    # axs[1,i].plot(limits[i],limits[i], color='b')\n",
    "\n",
    "  #--------------------------------------\n",
    "  # DIFFERENCE VS TRUE\n",
    "  #--------------------------------------\n",
    "\n",
    "  for i in range(size):\n",
    "    axs[2,i].scatter(true[:,i],diff[:,i])\n",
    "    l, r = axs[2,i].get_xlim()\n",
    "    axs[2,i].hlines(0, l, r)\n",
    "    axs[2,i].grid(True)\n",
    "\n",
    "    axs[2,i].set_title(values[i] + ' (difference vs true)')\n",
    "    axs[2,i].set_ylabel('diff ' + values[i])\n",
    "    axs[2,i].set_xlabel('true ' + values[i])\n",
    "\n",
    "  #--------------------------------------\n",
    "  # DIFFERENCE VS TRUE 2D HIST\n",
    "  #--------------------------------------\n",
    "\n",
    "  for i in range(size):\n",
    "    axs[3,i].hist2d(true[:,i],diff[:,i],bins=20)\n",
    "\n",
    "    axs[2,i].set_title(values[i] + ' (difference vs true)')\n",
    "    axs[2,i].set_ylabel('diff ' + values[i])\n",
    "    axs[2,i].set_xlabel('true ' + values[i])\n",
    "\n",
    "  fig.show()\n"
   ]
  },
  {
   "cell_type": "code",
   "execution_count": null,
   "metadata": {
    "id": "zHuUmXPCiXt9"
   },
   "outputs": [],
   "source": [
    "def gen_test_data(x_test, y_test, size=1000):\n",
    "  pred = model.predict(x_test)\n",
    "  diff = pred - y_test\n",
    "  return pred, y_test, diff"
   ]
  },
  {
   "cell_type": "code",
   "execution_count": null,
   "metadata": {
    "id": "2AMRhD6Wi7Xh"
   },
   "outputs": [],
   "source": [
    "graph(gen_test_data(x_test, y_test));"
   ]
  },
  {
   "cell_type": "markdown",
   "metadata": {
    "id": "ZAUyMneo7Xj1"
   },
   "source": [
    "# Test model"
   ]
  },
  {
   "cell_type": "code",
   "execution_count": null,
   "metadata": {
    "id": "sBsHjTgG7X2y"
   },
   "outputs": [],
   "source": [
    "# make test function"
   ]
  },
  {
   "cell_type": "markdown",
   "metadata": {
    "id": "hWkYEQvFZ7HC"
   },
   "source": [
    "# Verification of proper data processing"
   ]
  },
  {
   "cell_type": "markdown",
   "metadata": {
    "id": "wqKxKcOQYEO4"
   },
   "source": [
    "## Using Generator"
   ]
  },
  {
   "cell_type": "code",
   "execution_count": null,
   "metadata": {
    "id": "ml3HHzoEaAhr"
   },
   "outputs": [],
   "source": [
    "aax, aay = next(train_gen)\n",
    "print(aax.shape)\n",
    "print(aay.shape)"
   ]
  },
  {
   "cell_type": "code",
   "execution_count": null,
   "metadata": {
    "id": "gv72llYMaUYd"
   },
   "outputs": [],
   "source": [
    "print(\"x\",aax[0])\n",
    "print(\"y\",aay[0])"
   ]
  },
  {
   "cell_type": "markdown",
   "metadata": {
    "id": "DcwDKKLLe079"
   },
   "source": [
    "## Non Genenerator"
   ]
  },
  {
   "cell_type": "code",
   "execution_count": null,
   "metadata": {
    "colab": {
     "base_uri": "https://localhost:8080/"
    },
    "id": "DlU3tRGpYxQV",
    "outputId": "a24ded2d-d1d0-4555-84a9-428edf5b2e7d"
   },
   "outputs": [],
   "source": [
    "for i in range(10):\n",
    "  aax = x_train[i]\n",
    "  aay = y_train[i]\n",
    "  # print(aax.shape)\n",
    "  # print(aay.shape)\n",
    "  # print(\"x\",aax)\n",
    "  print(\"y\",aay)"
   ]
  },
  {
   "cell_type": "markdown",
   "metadata": {
    "id": "rCpP2wsfdeGl"
   },
   "source": [
    "## Graphs of Data"
   ]
  },
  {
   "cell_type": "markdown",
   "metadata": {
    "id": "fAxLbw94GYzm"
   },
   "source": [
    "### filter_ignore\n",
    "\n",
    "Filters out large and small values and graphs them"
   ]
  },
  {
   "cell_type": "code",
   "execution_count": null,
   "metadata": {
    "id": "FiUKfbtfAoLm"
   },
   "outputs": [],
   "source": [
    "def filter_ignore(var,min=None,max=None,bins=25,ylog=False,xlog=False,cut=True):\n",
    "  list_ignore = []\n",
    "\n",
    "  print(\"--== {} ==--\\n\".format(var))\n",
    "\n",
    "  largest = 0\n",
    "  smallest = 0\n",
    "  for i in range(len(csv_train[var])):\n",
    "    if csv_train[var][i] > csv_train[var][largest]:\n",
    "      largest = i\n",
    "    if csv_train[var][i] < csv_train[var][smallest]:\n",
    "      smallest = i\n",
    "  print(\"largest value:  ({}, {:.3f})\".format(largest,csv_train[var][largest]))\n",
    "  print(\"smallest value: ({}, {:.3f})\".format(smallest,csv_train[var][smallest]))\n",
    "\n",
    "  print(\"\")\n",
    "\n",
    "  if min:\n",
    "    for i in range(len(csv_train[var])):\n",
    "      if csv_train[var][i] < min:\n",
    "        list_ignore.append(i)\n",
    "    print(\"min IDs to ignore for '{}':\".format(var))\n",
    "    print(csv_train[var][list_ignore])\n",
    "    print(\"\")\n",
    "  if max:\n",
    "    for i in range(len(csv_train[var])):\n",
    "      if csv_train[var][i] > max:\n",
    "        list_ignore.append(i)\n",
    "    print(\"max IDs to ignore for '{}':\".format(var))\n",
    "    print(csv_train[var][list_ignore])\n",
    "    print(\"\")\n",
    "  if min and max:\n",
    "    print(\"total IDs to ignore for '{}':\".format(var))\n",
    "    print(csv_train[var][list_ignore])\n",
    "    print(\"\")\n",
    "    plt.hist(csv_train[var],range=[min,max],bins=bins)\n",
    "  elif min:\n",
    "    plt.hist(csv_train[var],range=[min,csv_train[var][largest]],bins=bins)\n",
    "  elif max:\n",
    "    plt.hist(csv_train[var],range=[csv_train[var][smallest],max],bins=bins)\n",
    "  else:\n",
    "    plt.hist(csv_train[var],bins=bins)\n",
    "  \n",
    "  plt.title(var)\n",
    "  if cut:\n",
    "    plt.xlim(left=min,right=max)\n",
    "  if ylog:\n",
    "    plt.yscale(\"log\")\n",
    "  if xlog:\n",
    "    plt.xscale(\"log\")\n",
    "  plt.show()\n",
    "  return list_ignore"
   ]
  },
  {
   "cell_type": "code",
   "execution_count": null,
   "metadata": {
    "colab": {
     "base_uri": "https://localhost:8080/",
     "height": 542
    },
    "id": "BwsJ0YIoBiew",
    "outputId": "962724f0-0845-4ab5-8b27-043de6744e44"
   },
   "outputs": [],
   "source": [
    "filter_ignore(\"q_over_pt\",min=-4000,bins=30,ylog=True)"
   ]
  },
  {
   "cell_type": "code",
   "execution_count": null,
   "metadata": {
    "colab": {
     "base_uri": "https://localhost:8080/",
     "height": 455
    },
    "id": "2Wyjq07YGjBF",
    "outputId": "9a82db49-7e7e-49aa-8d4b-a0da738ec1f5"
   },
   "outputs": [],
   "source": [
    "filter_ignore(\"tanl\",max=1000,bins=25,ylog=True)"
   ]
  },
  {
   "cell_type": "code",
   "execution_count": null,
   "metadata": {
    "id": "xauTTOyrHPyT"
   },
   "outputs": [],
   "source": [
    "rms_ignore = filter_ignore(\"rms\",max=0.1,bins=25,ylog=True)"
   ]
  },
  {
   "cell_type": "code",
   "execution_count": null,
   "metadata": {
    "colab": {
     "base_uri": "https://localhost:8080/",
     "height": 385
    },
    "id": "ERa-RZDbN6Hm",
    "outputId": "ac4577c9-f719-47d4-bc16-8fdbb7e413a5"
   },
   "outputs": [],
   "source": [
    "# 'q_over_pt', 'phi', 'tanl', 'D', 'z'\n",
    "# filter_ignore(\"D\", min=-200, ylog=True,bins=25)\n",
    "filter_ignore(\"z\",bins=100)"
   ]
  },
  {
   "cell_type": "code",
   "execution_count": null,
   "metadata": {
    "id": "UBO9wKCH2ePH"
   },
   "outputs": [],
   "source": [
    "csv_train.keys()"
   ]
  },
  {
   "cell_type": "markdown",
   "metadata": {
    "id": "yc3WNfPaYwaL"
   },
   "source": [
    "### 1D Hist of all Data"
   ]
  },
  {
   "cell_type": "code",
   "execution_count": null,
   "metadata": {
    "colab": {
     "base_uri": "https://localhost:8080/",
     "height": 809
    },
    "id": "2VqlQxZRgTB7",
    "outputId": "2a5ce7d3-1665-4d71-80f5-5b7ed7ceb673"
   },
   "outputs": [],
   "source": [
    "plt.hist(csv_train[\"phi\"],bins=50) # -3 to 3, even distrib\n",
    "plt.title(\"phi\")\n",
    "plt.show()\n",
    "# ---\n",
    "plt.hist(csv_train[\"D\"],range=[-3000,80],bins=25) # -3000 to 50, but val in 65\n",
    "plt.yscale(\"log\")\n",
    "plt.title(\"D\")\n",
    "plt.show()\n",
    "# ---\n",
    "plt.hist(csv_train[\"z\"],bins=100)\n",
    "plt.title(\"z\")\n",
    "plt.show()"
   ]
  },
  {
   "cell_type": "code",
   "execution_count": null,
   "metadata": {
    "colab": {
     "base_uri": "https://localhost:8080/",
     "height": 1000
    },
    "id": "TbqYK55L05mB",
    "outputId": "81dc2a8d-b572-4505-983a-8958a9bea8b6"
   },
   "outputs": [],
   "source": [
    "# fig, ax = plt.subplots(2,1,figsize=(5,10))\n",
    "# fig.subplots_adjust(hspace=0.35)\n",
    "\n",
    "plt.hist(csv_train[\"cov_00\"],range=[0,1e8],bins=25) # 0 to 1e13\n",
    "plt.yscale(\"log\")\n",
    "plt.title(\"cov_00\")\n",
    "plt.show()\n",
    "# ---\n",
    "plt.hist(csv_train[\"cov_01\"],bins=25) # -1e6 to over 1e5\n",
    "plt.yscale(\"log\")\n",
    "plt.title(\"cov_01\")\n",
    "plt.show()\n",
    "# ---\n",
    "plt.hist(csv_train[\"chisq\"],bins=25) # 0 to 200\n",
    "plt.yscale(\"log\")\n",
    "plt.title(\"chisq\")\n",
    "plt.show()\n",
    "# ---\n",
    "plt.hist(csv_train[\"Ndof\"],range=[0,44],bins=45) # ? this one weird 0 to ~43\n",
    "plt.yscale(\"log\")\n",
    "plt.title(\"Ndof\")\n",
    "plt.show()\n",
    "# ---\n",
    "plt.hist(csv_train[\"rms\"],range=[0,0.1],bins=25) # \n",
    "# plt.xscale(\"log\")\n",
    "plt.yscale(\"log\")\n",
    "plt.title(\"rms\")\n",
    "plt.show()\n",
    "# ---\n",
    "# plt.hist(csv_train[\"t_start_cntr\"],bins=25) # -60 to ~50\n",
    "plt.hist(csv_train[csv_train[\"t_start_cntr_valid\"] == 1][\"t_start_cntr\"],bins=25) # -60 to ~50\n",
    "plt.title(\"t_start_cntr\")\n",
    "plt.show()\n",
    "\n",
    "# plt.hist(csv_train[\"t_tof\"],bins=25) # ~-120 to ~175\n",
    "plt.hist(csv_train[csv_train[\"t_tof_valid\"] == 1][\"t_tof\"],bins=25) # ~-120 to ~175\n",
    "plt.title(\"t_tof\")\n",
    "plt.show()\n",
    "plt.hist(csv_train[\"t_bcal\"],bins=25) # ~-22 to 20\n",
    "plt.title(\"t_bcal\")\n",
    "plt.show()\n",
    "plt.hist(csv_train[\"t_fcal\"],bins=25) # ~-100 to ~75\n",
    "plt.yscale(\"log\")\n",
    "plt.title(\"t_fcal\")\n",
    "plt.show()\n",
    "# ---\n",
    "plt.hist(csv_train[\"t_start_cntr_valid\"],bins=25) # a lot more 0s\n",
    "plt.title(\"t_start_cntr_valid\")\n",
    "plt.show()\n",
    "plt.hist(csv_train[\"t_tof_valid\"],bins=25) # about 5050\n",
    "plt.title(\"t_tof_valid\")\n",
    "plt.show()\n",
    "plt.hist(csv_train[\"t_bcal_valid\"],bins=25) # almost all 0s\n",
    "plt.title(\"t_bcal_valid\")\n",
    "plt.show()\n",
    "plt.hist(csv_train[\"t_fcal_valid\"],bins=25) # almost all 0s\n",
    "plt.title(\"t_fcal_valid\")\n",
    "plt.show()\n",
    "# ---\n",
    "\n"
   ]
  },
  {
   "cell_type": "markdown",
   "metadata": {
    "id": "LbzN70C9MCrQ"
   },
   "source": [
    "### 1D Hist of Hit1 Data"
   ]
  },
  {
   "cell_type": "code",
   "execution_count": null,
   "metadata": {
    "colab": {
     "base_uri": "https://localhost:8080/",
     "height": 1000
    },
    "id": "VGzHLbKsLUZ9",
    "outputId": "0e1a0a14-8881-439d-c2f3-f0ec09006cc4"
   },
   "outputs": [],
   "source": [
    "plt.hist(csv_train[\"hit1_u\"],bins=25) # -42 to 42\n",
    "plt.title(\"hit1_u\")\n",
    "plt.show()\n",
    "plt.hist(csv_train[\"hit1_v\"],bins=25) # -42 to 42\n",
    "plt.title(\"hit1_v\")\n",
    "plt.show()\n",
    "# plt.hist(csv_train[\"hit1_sinv\"],bins=25) # most are 0.96603 almost all are around that though\n",
    "# plt.title(\"hit1_sinv\")\n",
    "# plt.show()\n",
    "# plt.hist(csv_train[\"hit1_cosv\"],bins=25) # most -0.2585\n",
    "# plt.title(\"hit1_cosv\")\n",
    "# plt.show()\n",
    "# plt.hist(csv_train[\"hit1_sinu\"],bins=25) # most 0.96585\n",
    "# plt.title(\"hit1_sinu\")\n",
    "# plt.show()\n",
    "# plt.hist(csv_train[\"hit1_cosu\"],bins=25) # most 0.2591\n",
    "# plt.title(\"hit1_cosu\")\n",
    "# plt.show()\n",
    "plt.hist(csv_train[\"hit1_s\"],bins=25) # -42 to 42\n",
    "plt.title(\"hit1_s\")\n",
    "plt.show()\n",
    "plt.hist(csv_train[\"hit1_ds\"],bins=25) # 0.01 to 0.04\n",
    "plt.title(\"hit1_ds\")\n",
    "plt.show()\n",
    "plt.hist(csv_train[\"hit1_wire\"],bins=101,range=[0,100]) # 0 to 100\n",
    "plt.title(\"hit1_wire\")\n",
    "plt.show()\n",
    "plt.hist(csv_train[\"hit1_glayer\"],bins=25,range=[0,26]) # 6 to 23\n",
    "plt.title(\"hit1_glayer\")\n",
    "plt.show()\n",
    "plt.hist(csv_train[\"hit1_z\"],bins=25) # spaced out between 180 and 340\n",
    "plt.title(\"hit1_z\")\n",
    "plt.show()\n",
    "plt.hist(csv_train[\"hit1_time\"],bins=25) # -75 to 270\n",
    "plt.title(\"hit1_time\")\n",
    "plt.show()\n",
    "plt.hist(csv_train[\"hit1_dE_amp\"],bins=25) # 0 to 2e-7\n",
    "plt.title(\"hit1_dE_amp\")\n",
    "plt.show()\n",
    "plt.hist(csv_train[\"hit1_q\"],bins=25) # 0 to 85\n",
    "plt.yscale(\"log\")\n",
    "plt.title(\"hit1_q\")\n",
    "plt.show()\n",
    "# ---"
   ]
  },
  {
   "cell_type": "markdown",
   "metadata": {
    "id": "oxIRSBXpYzU7"
   },
   "source": [
    "### 2D Scatters of various data"
   ]
  },
  {
   "cell_type": "code",
   "execution_count": null,
   "metadata": {
    "colab": {
     "base_uri": "https://localhost:8080/",
     "height": 299
    },
    "id": "8hgtNdVxY-4_",
    "outputId": "9e12924e-9cb0-492c-fcbb-8cbc7ed4680e"
   },
   "outputs": [],
   "source": [
    "plt.scatter(csv_train[\"tanl\"],abs(csv_train[\"q_over_pt\"]),s=0.01) # a lot more 0s\n",
    "plt.title(\"q_over_pt vs tanl\")\n",
    "plt.xlabel(\"tanl\")\n",
    "plt.ylabel(\"q_over_pt\")\n",
    "plt.yscale(\"log\")\n",
    "plt.xscale(\"log\")\n",
    "plt.grid(True)\n",
    "plt.show()"
   ]
  },
  {
   "cell_type": "code",
   "execution_count": null,
   "metadata": {
    "colab": {
     "base_uri": "https://localhost:8080/",
     "height": 296
    },
    "id": "4pjOeJd85uWM",
    "outputId": "887b1312-0399-4223-ff5d-576875baa7e8"
   },
   "outputs": [],
   "source": [
    "# all create a plus sign\n",
    "plt.scatter(csv_train[\"t_start_cntr\"],csv_train[\"t_tof\"]) # a lot more 0s\n",
    "plt.title(\"t_tof vs t_start_cntr\")\n",
    "plt.xlabel(\"t_start_cntr\")\n",
    "plt.ylabel(\"t_tof\")\n",
    "plt.show()\n",
    "\n",
    "# plt.hist(csv_train[\"t_start_cntr\"],bins=25) # -60 to ~50\n",
    "# plt.hist(csv_train[\"t_tof\"],bins=25) # ~-120 to ~175\n",
    "# plt.hist(csv_train[\"t_bcal\"],bins=25) # ~-22 to 20\n",
    "# plt.hist(csv_train[\"t_fcal\"],bins=25) # ~-100 to ~75"
   ]
  },
  {
   "cell_type": "code",
   "execution_count": null,
   "metadata": {
    "colab": {
     "base_uri": "https://localhost:8080/",
     "height": 265
    },
    "id": "IFF2_7npOseE",
    "outputId": "8e8bec48-6610-41d1-8faa-64814bb75af9"
   },
   "outputs": [],
   "source": [
    "plt.hist(csv_train[\"hit1_glayer\"],bins=24)\n",
    "plt.hist(csv_train[\"hit2_glayer\"],bins=24)\n",
    "plt.hist(csv_train[\"hit3_glayer\"],bins=24)\n",
    "plt.hist(csv_train[\"hit4_glayer\"],bins=24)\n",
    "plt.hist(csv_train[\"hit5_glayer\"],bins=24)\n",
    "plt.hist(csv_train[\"hit6_glayer\"],bins=24)\n",
    "plt.hist(csv_train[\"hit10_glayer\"],bins=24)\n",
    "plt.show()"
   ]
  },
  {
   "cell_type": "markdown",
   "metadata": {
    "id": "IdRImNvKZ0Fa"
   },
   "source": [
    "### 2D Scatters of various hit data"
   ]
  },
  {
   "cell_type": "code",
   "execution_count": null,
   "metadata": {
    "id": "4mxK94YV2FM2"
   },
   "outputs": [],
   "source": [
    "# Oval\n",
    "plt.scatter(csv_train[\"hit1_u\"],csv_train[\"hit1_v\"]) # -3 to 3, even distrib\n",
    "plt.title(\"v vs u\")\n",
    "plt.xlabel(\"u\")\n",
    "plt.ylabel(\"v\")\n",
    "plt.show()\n",
    "\n",
    "# like a flame\n",
    "plt.scatter(csv_train[\"hit1_s\"],csv_train[\"hit1_ds\"]) # -3 to 3, even distrib\n",
    "plt.title(\"ds vs s\")\n",
    "plt.xlabel(\"s\")\n",
    "plt.ylabel(\"ds\")\n",
    "plt.show()\n",
    "\n",
    "# hit1_wire, with single letters, forms an oval\n",
    "plt.scatter(csv_train[\"hit1_wire\"],csv_train[\"hit1_s\"]) # -3 to 3, even distrib\n",
    "plt.title(\"hit1_s vs hit1_wire\")\n",
    "plt.xlabel(\"hit1_wire\")\n",
    "plt.ylabel(\"hit1_s\")\n",
    "plt.show()\n",
    "\n",
    "# go up in steps\n",
    "plt.scatter(csv_train[\"hit1_glayer\"],csv_train[\"hit1_z\"]) # -3 to 3, even distrib\n",
    "plt.title(\"z vs glayer\")\n",
    "plt.xlabel(\"glayer\")\n",
    "plt.ylabel(\"z\")\n",
    "plt.show()\n",
    "\n",
    "# 1:1\n",
    "plt.scatter(csv_train[\"hit1_q\"],csv_train[\"hit1_dE_amp\"]) # -3 to 3, even distrib\n",
    "plt.title(\"dE_amp vs q\")\n",
    "plt.xlabel(\"q\")\n",
    "plt.ylabel(\"dE_amp\")\n",
    "plt.show()\n",
    "\n"
   ]
  },
  {
   "cell_type": "code",
   "execution_count": null,
   "metadata": {
    "id": "bhNGqPbNQ8fX"
   },
   "outputs": [],
   "source": [
    "aax = \n",
    "plt.plot()"
   ]
  },
  {
   "cell_type": "markdown",
   "metadata": {
    "id": "4dM6aySx8xO-"
   },
   "source": [
    "# Depricated?"
   ]
  },
  {
   "cell_type": "markdown",
   "metadata": {
    "id": "Ie8Rhqf765N5"
   },
   "source": [
    "## Non Custom Loss"
   ]
  },
  {
   "cell_type": "code",
   "execution_count": null,
   "metadata": {
    "id": "CpJHFBHy74vp"
   },
   "outputs": [],
   "source": [
    "# --==Not in use?==--\n",
    "# lr_schedule = keras.optimizers.schedules.ExponentialDecay(\n",
    "#     initial_learning_rate=1e-3,\n",
    "#     decay_steps=10000,\n",
    "#     decay_rate=0.8)\n",
    "\n",
    "from keras.layers import Dense\n",
    "\n",
    "nInput = 10\n",
    "\n",
    "# inputs = keras.layers.Input((None,nInput))\n",
    "# print(\"train shape of one batch:\", x_train.shape[1:])\n",
    "\n",
    "# --==Set seed to get identical results==-- begin\n",
    "# from tensorflow.random import set_seed\n",
    "# np.random.seed(1)\n",
    "# set_seed(2)\n",
    "# --==Set seed to get identical results==-- end\n",
    "\n",
    "\n",
    "#--==Set Weights==--\n",
    "# loss_weights = [1/(sd**2)]\n",
    "# loss_weights = np.array(loss_weights)/sum(loss_weights)\n",
    "# model.compile(optimizer=optimizer, loss=\"mse\", loss_weights=loss_weights, metrics=[\"mae\"])\n",
    "\n",
    "inputs = keras.Input((None,nInput),ragged=True)\n",
    "\n",
    "# --==Choose model==--\n",
    "# x = model(inputs)\n",
    "# x = model_timeless(inputs)\n",
    "# x = RNNTime(inputs)\n",
    "x = RNNTimeless(inputs)\n",
    "# x = RNNTimeStateful(inputs)\n",
    "\n",
    "\n",
    "outs = {\n",
    "    \"q_pt\":Dense(1, name=\"q_pt\")(x),\n",
    "    \"phi\":Dense(1, name=\"phi\")(x),\n",
    "    \"tanl\":Dense(1, name=\"tanl\")(x),\n",
    "    \"D\":Dense(1, name=\"D\")(x),\n",
    "    \"z\":Dense(1, name=\"z\")(x)\n",
    "}\n",
    "\n",
    "y_dict = {\n",
    "    \"q_pt\":y_train[:,0],\n",
    "    \"phi\":y_train[:,1],\n",
    "    \"tanl\":y_train[:,2],\n",
    "    \"D\":y_train[:,3],\n",
    "    \"z\":y_train[:,4]\n",
    "}\n",
    "\n",
    "\n",
    "# model = keras.Model(inputs=inputs, outputs=x, name=\"RNNModel\")\n",
    "# model = keras.Model(inputs=inputs, outputs=x, name=\"RNNModel\")\n",
    "model = keras.Model(inputs=inputs, outputs=outs, name=\"RNNModel\")\n",
    "\n",
    "model.compile(optimizer=\"adam\", loss=\"mse\", metrics=[\"mae\"])\n",
    "\n",
    "model.summary()"
   ]
  },
  {
   "cell_type": "code",
   "execution_count": null,
   "metadata": {
    "id": "Hw07sS4jFgJI"
   },
   "outputs": [],
   "source": [
    "es = keras.callbacks.EarlyStopping(monitor='loss', min_delta=0.01, patience=50, mode='min', verbose=1, restore_best_weights=True)\n",
    "rag_x = x_train[0]\n",
    "H = model.fit(x=rag_x, y=y_dict, batch_size=64, epochs=100, verbose=1, callbacks=[es])\n",
    "\n",
    "# Overfit\n",
    "# es = keras.callbacks.EarlyStopping(monitor='loss', min_delta=0.001, patience=100, mode='min', verbose=1, restore_best_weights=True)\n",
    "# H = model.fit(x=x_train[:10], y=y_train[:10], batch_size=1, epochs=200, verbose=1, shuffle=True, callbacks=[es])"
   ]
  },
  {
   "cell_type": "markdown",
   "metadata": {
    "id": "kMcu1m3k7rHK"
   },
   "source": [
    "## Versions"
   ]
  },
  {
   "cell_type": "markdown",
   "metadata": {
    "id": "wUBj5VjBuyL9"
   },
   "source": [
    "### V2"
   ]
  },
  {
   "cell_type": "code",
   "execution_count": null,
   "metadata": {
    "colab": {
     "base_uri": "https://localhost:8080/"
    },
    "id": "R7-v4CJdyQk8",
    "outputId": "940df566-bd20-4356-a2cb-da3bcfaa5fd9"
   },
   "outputs": [],
   "source": [
    "import tensorflow as tf\n",
    "import tensorflow.keras.backend as K\n",
    "#--------------------------------------------\n",
    "# Define custom loss function \n",
    "def customLoss(y_true, y_pred, invcov):\n",
    "  # print(type(y_true))    #<class 'tensorflow.python.ops.resource_variable_ops.ResourceVariable'>\n",
    "\n",
    "\n",
    "  # print(y_pred)\n",
    "\n",
    "  y_pred_a = []\n",
    "  for k in y_pred.keys():\n",
    "    y_pred_a.append(np.squeeze(y_pred[k]))\n",
    "\n",
    "  y_pred = np.array(y_pred_a).astype(\"float64\")\n",
    "  y_pred = tf.transpose(y_pred, perm=(1,0))\n",
    "  # print(y_pred.shape)\n",
    "  print(y_pred)\n",
    "\n",
    "  batch_size = tf.shape(y_pred)[0]\n",
    "  print('y_pred shape: ' + str(y_pred.shape) )  # y_pred dict shape of each is (batch, 1)\n",
    "  print('y_true shape: ' + str(y_true.shape) )  # y_true shape is (batch, 5)\n",
    "  print('invcov shape: ' + str(invcov.shape) )  # invcov shape is (batch, 25)\n",
    "  \n",
    "  y_pred = K.reshape(y_pred, (batch_size, 5,1)) # y_pred  shape is now (batch, 5,1)\n",
    "  y_true = K.reshape(y_true, (batch_size, 5,1)) # y_state shape is now (batch, 5,1)\n",
    "  invcov = K.reshape(invcov, (batch_size, 5,5)) # invcov  shape is now (batch, 5,5)\n",
    "  \n",
    "  # n.b. we must use tf.transpose here an not K.transpose since the latter does not allow perm argument\n",
    "  invcov = tf.transpose(invcov, perm=[0,2,1])     # invcov shape is now (batch, 5,5)\n",
    "  \n",
    "  # Difference between prediction and true state vectors\n",
    "  y_diff = y_pred - y_true\n",
    "\n",
    "  # n.b. use \"batch_dot\" and not \"dot\"!\n",
    "  y_dot = K.batch_dot(invcov, y_diff)           # y_dot shape is (batch,5,1)\n",
    "  y_loss = K.reshape(y_dot, (batch_size, 5))  # y_dot shape is now (batch,5)\n",
    "\n",
    "  y_dict = {\n",
    "      \"q_pt\":y_loss[:,0],\n",
    "      \"phi\":y_loss[:,1],\n",
    "      \"tanl\":y_loss[:,2],\n",
    "      \"D\":y_loss[:,3],\n",
    "      \"z\":y_loss[:,4],\n",
    "  }\n",
    "\n",
    "  # y_dot = K.reshape(y_dot, (batch_size, 1, 5))  # y_dot shape is now (batch,1,5)\n",
    "  # y_loss = K.batch_dot(y_dot, y_diff)           # y_loss shape is (batch,1,1)\n",
    "  # y_loss = K.reshape(y_loss, (batch_size,))     # y_loss shape is now (batch)\n",
    "  return y_dict\n",
    "#--------------------------------------------\n",
    "# Test loss function\n",
    "# x_test = y_train[0]\n",
    "x_test = x_train[2][0:4]\n",
    "y_test = model.predict([x_train[0][0:4],x_train[1][0:4],x_train[2][0:4]])\n",
    "inconv_test = x_train[1][0:4]\n",
    "\n",
    "# for k in y_test.keys():\n",
    "#   y_test[k] = np.squeeze(y_test[k])\n",
    "# print(y_test)\n",
    "\n",
    "# print(y_test)\n",
    "# y_test_a = []\n",
    "# for k in y_test.keys():\n",
    "#   y_test_a.append(y_test[k])\n",
    "# y_test = np.squeeze(np.array(y_test_a))\n",
    "# print(y_test.shape)\n",
    "# print(y_test)\n",
    "\n",
    "# loss = K.eval(customLoss(K.variable([x_test,x_test,x_test]), K.variable([y_test,y_test,y_test]), K.variable([inconv_test,inconv_test,inconv_test])))\n",
    "loss = K.eval(customLoss(x_test, y_test, inconv_test))\n",
    "# print('loss shape: '    + str(loss.shape)    )\n",
    "print(loss)"
   ]
  },
  {
   "cell_type": "markdown",
   "metadata": {
    "id": "CAP0kzRvu2hz"
   },
   "source": [
    "### V3"
   ]
  },
  {
   "cell_type": "code",
   "execution_count": null,
   "metadata": {
    "colab": {
     "base_uri": "https://localhost:8080/"
    },
    "id": "U7mcvkxuuweK",
    "outputId": "1197158f-904e-4103-f45a-2f015a71f639"
   },
   "outputs": [],
   "source": [
    "import tensorflow as tf\n",
    "import tensorflow.keras.backend as K\n",
    "#--------------------------------------------\n",
    "# Define custom loss function \n",
    "def customLoss(q_pt_true, phi_true, tanl_true, D_true, z_true, q_pt_pred, phi_pred, tanl_pred, D_pred, z_pred, invcov):\n",
    "\n",
    "\n",
    "  y_pred = [q_pt_pred, phi_pred, tanl_pred, D_pred, z_pred]\n",
    "  # y_pred = np.array(y_pred).astype(\"float64\")\n",
    "  y_pred = tf.transpose(y_pred, perm=(1,0))\n",
    "  y_pred = tf.cast(y_pred, \"float64\")\n",
    "\n",
    "  y_true = [q_pt_true, phi_true, tanl_true, D_true, z_true]\n",
    "  # y_true = np.array(y_true).astype(\"float64\")\n",
    "  y_true = tf.transpose(y_true, perm=(1,0))\n",
    "  y_true = tf.cast(y_true, \"float64\")\n",
    "\n",
    "  batch_size = tf.shape(y_pred)[0]\n",
    "  print('y_pred shape: ' + str(y_pred.shape) )  # y_pred dict shape of each is (batch, 1)\n",
    "  print('y_true shape: ' + str(y_true.shape) )  # y_true shape is (batch, 5)\n",
    "  print('invcov shape: ' + str(invcov.shape) )  # invcov shape is (batch, 25)\n",
    "  \n",
    "  y_pred = K.reshape(y_pred, (batch_size, 5,1)) # y_pred  shape is now (batch, 5,1)\n",
    "  y_true = K.reshape(y_true, (batch_size, 5,1)) # y_state shape is now (batch, 5,1)\n",
    "  invcov = K.reshape(invcov, (batch_size, 5,5)) # invcov  shape is now (batch, 5,5)\n",
    "  \n",
    "  # n.b. we must use tf.transpose here an not K.transpose since the latter does not allow perm argument\n",
    "  invcov = tf.transpose(invcov, perm=[0,2,1])     # invcov shape is now (batch, 5,5)\n",
    "  \n",
    "  # Difference between prediction and true state vectors\n",
    "  y_diff = y_pred - y_true\n",
    "\n",
    "  # n.b. use \"batch_dot\" and not \"dot\"!\n",
    "  y_dot = K.batch_dot(invcov, y_diff)           # y_dot shape is (batch,5,1)\n",
    "  y_loss = K.reshape(y_dot, (batch_size, 5))  # y_dot shape is now (batch,5)\n",
    "\n",
    "  y_dict = {\n",
    "      \"q_pt\":y_loss[:,0],\n",
    "      \"phi\":y_loss[:,1],\n",
    "      \"tanl\":y_loss[:,2],\n",
    "      \"D\":y_loss[:,3],\n",
    "      \"z\":y_loss[:,4],\n",
    "  }\n",
    "\n",
    "  # y_dot = K.reshape(y_dot, (batch_size, 1, 5))  # y_dot shape is now (batch,1,5)\n",
    "  # y_loss = K.batch_dot(y_dot, y_diff)           # y_loss shape is (batch,1,1)\n",
    "  # y_loss = K.reshape(y_loss, (batch_size,))     # y_loss shape is now (batch)\n",
    "  return y_dict\n",
    "#--------------------------------------------\n",
    "# Test loss function\n",
    "# x_test = y_train[0]\n",
    "x_test = x_train[2][0:4]\n",
    "y_test = model.predict([x_train[0][0:4],x_train[1][0:4],x_train[2][0:4]])\n",
    "inconv_test = x_train[1][0:4]\n",
    "\n",
    "y_test_a = []\n",
    "for k in y_test.keys():\n",
    "  y_test_a.append(y_test[k])\n",
    "y_test = np.squeeze(np.array(y_test_a))\n",
    "y_test = np.swapaxes(y_test, 0, 1)\n",
    "print(y_test.shape)\n",
    "\n",
    "\n",
    "# loss = K.eval(customLoss(K.variable([x_test,x_test,x_test]), K.variable([y_test,y_test,y_test]), K.variable([inconv_test,inconv_test,inconv_test])))\n",
    "loss = K.eval(customLoss(x_test[:,0],x_test[:,1],x_test[:,2],x_test[:,3],x_test[:,4], y_test[:,0], y_test[:,1],y_test[:,2],y_test[:,3],y_test[:,4], inconv_test))\n",
    "# print('loss shape: '    + str(loss.shape)    )\n",
    "print(loss)"
   ]
  },
  {
   "cell_type": "markdown",
   "metadata": {
    "id": "_kuUpxAuz1sz"
   },
   "source": [
    "### V4"
   ]
  },
  {
   "cell_type": "markdown",
   "metadata": {
    "id": "ZRUvQVjHAD2U"
   },
   "source": [
    "So, we have the prediction and true vector\n",
    "\n",
    "$$\n",
    "y_{pred}=\n",
    "\\begin{bmatrix}\n",
    "q\\_pt \\\\ phi \\\\ tanl \\\\ D \\\\ z\n",
    "\\end{bmatrix}\n",
    "$$\n",
    "\n",
    "We have the inverse covariance matrix, we'll label it $C^{-1}$:\n",
    "\n",
    "and $y_p = y_{predict}$\n",
    "\n",
    "$$\n",
    "C^{-1} = \n",
    "\\begin{bmatrix}\n",
    "qq & qp & qt & qd & qz \\\\\n",
    "qp & pp & pt & pd & pz \\\\\n",
    "qt & pt & tt & td & tz \\\\\n",
    "qd & pd & td & dd & dz \\\\\n",
    "qz & pz & tz & dz & zz \\\\\n",
    "\\end{bmatrix}\n",
    "$$\n",
    "\n",
    "Thus, the formula before was:\n",
    "\n",
    "$$\n",
    "loss = C^{-1} \\cdot \\vec{y_p}  \\cdot \\vec{y_p}\n",
    "$$\n",
    "\n",
    "$$\n",
    "  y_{dot} =\n",
    "  \\begin{bmatrix}\n",
    "    qq & qp & qt & qd & qz \\\\\n",
    "    qp & pp & pt & pd & pz \\\\\n",
    "    qt & pt & tt & td & tz \\\\\n",
    "    qd & pd & td & dd & dz \\\\\n",
    "    qz & pz & tz & dz & zz \n",
    "  \\end{bmatrix} \n",
    "  \\cdot\n",
    "  \\begin{bmatrix}\n",
    "    q\\_pt \\\\ phi \\\\ tanl \\\\ D \\\\ z\n",
    "  \\end{bmatrix}\n",
    "$$\n",
    "\n",
    "$$\n",
    "  y_{dot} = \n",
    "  \\begin{bmatrix}\n",
    "    qq*q\\_pt + qp*phi + qt*tanl + qd*D + qz*z \\\\\n",
    "    qp*q\\_pt + pp*phi + pt*tanl + pd*D + pz*z \\\\\n",
    "    qt*q\\_pt + pt*phi + tt*tanl + td*D + tz*z \\\\\n",
    "    qd*q\\_pt + pd*phi + td*tanl + dd*D + dz*z \\\\\n",
    "    qz*q\\_pt + dz*phi + tz*tanl + pz*D + zz*z\n",
    "  \\end{bmatrix}\n",
    "$$\n",
    "\n",
    "---\n",
    "\n",
    "Now, working on the output split for each variable, im looking for ways to seperate the variables after that operation.\n",
    "So maybe just sum the q_pt column of the matrix and multiply by q_pt?\n",
    "\n",
    "Maybe this would work? :\n",
    "\n",
    "$$\n",
    "loss_{q\\_pt} =  y_p^{q\\_pt} * \\sum_{i=0}^{4} C^{-1}_{qi}\n",
    "$$\n",
    "\n",
    "Where $C^{-1}_q$ is one row or column of the matrix of that variable\n",
    "\n",
    "\n",
    "\n"
   ]
  },
  {
   "cell_type": "code",
   "execution_count": null,
   "metadata": {
    "colab": {
     "base_uri": "https://localhost:8080/"
    },
    "id": "8shIh2axz1g_",
    "outputId": "bbc9620f-ee91-4ed5-a02c-8e29e698e46b"
   },
   "outputs": [],
   "source": [
    "import tensorflow as tf\n",
    "import tensorflow.keras.backend as K\n",
    "#--------------------------------------------\n",
    "# Define custom loss function \n",
    "def customLoss(y_true, y_pred, invcov):\n",
    "  # print(type(y_true))    #<class 'tensorflow.python.ops.resource_variable_ops.ResourceVariable'>\n",
    "\n",
    "  # print(y_pred)\n",
    "\n",
    "  # Theoretically:\n",
    "  # K.dot(invcov[0,:] * q_pt,q_pt)    # ?\n",
    "  \n",
    "\n",
    "\n",
    "  y_pred_a = []\n",
    "  for k in y_pred.keys():\n",
    "    y_pred_a.append(np.squeeze(y_pred[k]))\n",
    "\n",
    "  y_pred = np.array(y_pred_a).astype(\"float64\")\n",
    "  y_pred = tf.transpose(y_pred, perm=(1,0))\n",
    "  # print(y_pred.shape)\n",
    "  print(y_pred)\n",
    "\n",
    "  batch_size = tf.shape(y_pred)[0]\n",
    "  print('y_pred shape: ' + str(y_pred.shape) )  # y_pred dict shape of each is (batch, 1)\n",
    "  print('y_true shape: ' + str(y_true.shape) )  # y_true shape is (batch, 5)\n",
    "  print('invcov shape: ' + str(invcov.shape) )  # invcov shape is (batch, 25)\n",
    "  \n",
    "  y_pred = K.reshape(y_pred, (batch_size, 5,1)) # y_pred  shape is now (batch, 5,1)\n",
    "  y_true = K.reshape(y_true, (batch_size, 5,1)) # y_state shape is now (batch, 5,1)\n",
    "  invcov = K.reshape(invcov, (batch_size, 5,5)) # invcov  shape is now (batch, 5,5)\n",
    "  \n",
    "  # n.b. we must use tf.transpose here an not K.transpose since the latter does not allow perm argument\n",
    "  invcov = tf.transpose(invcov, perm=[0,2,1])     # invcov shape is now (batch, 5,5)\n",
    "  \n",
    "  # Difference between prediction and true state vectors\n",
    "  y_diff = y_pred - y_true\n",
    "\n",
    "  # n.b. use \"batch_dot\" and not \"dot\"!\n",
    "  y_dot = K.batch_dot(invcov, y_diff)           # y_dot shape is (batch,5,1)\n",
    "  y_loss = K.reshape(y_dot, (batch_size, 5))  # y_dot shape is now (batch,5)\n",
    "\n",
    "  y_dict = {\n",
    "      \"q_pt\":y_loss[:,0],\n",
    "      \"phi\":y_loss[:,1],\n",
    "      \"tanl\":y_loss[:,2],\n",
    "      \"D\":y_loss[:,3],\n",
    "      \"z\":y_loss[:,4],\n",
    "  }\n",
    "\n",
    "  # y_dot = K.reshape(y_dot, (batch_size, 1, 5))  # y_dot shape is now (batch,1,5)\n",
    "  # y_loss = K.batch_dot(y_dot, y_diff)           # y_loss shape is (batch,1,1)\n",
    "  # y_loss = K.reshape(y_loss, (batch_size,))     # y_loss shape is now (batch)\n",
    "  return y_dict\n",
    "#--------------------------------------------\n",
    "# Test loss function\n",
    "# x_test = y_train[0]\n",
    "x_test = x_train[2][0:4]\n",
    "y_test = model.predict([x_train[0][0:4],x_train[1][0:4],x_train[2][0:4]])\n",
    "inconv_test = x_train[1][0:4]\n",
    "\n",
    "# for k in y_test.keys():\n",
    "#   y_test[k] = np.squeeze(y_test[k])\n",
    "# print(y_test)\n",
    "\n",
    "# print(y_test)\n",
    "# y_test_a = []\n",
    "# for k in y_test.keys():\n",
    "#   y_test_a.append(y_test[k])\n",
    "# y_test = np.squeeze(np.array(y_test_a))\n",
    "# print(y_test.shape)\n",
    "# print(y_test)\n",
    "\n",
    "# loss = K.eval(customLoss(K.variable([x_test,x_test,x_test]), K.variable([y_test,y_test,y_test]), K.variable([inconv_test,inconv_test,inconv_test])))\n",
    "loss = K.eval(customLoss(x_test, y_test, inconv_test))\n",
    "# print('loss shape: '    + str(loss.shape)    )\n",
    "print(loss)"
   ]
  },
  {
   "cell_type": "markdown",
   "metadata": {
    "id": "7htvZHbENgC7"
   },
   "source": [
    "### V5 unedited"
   ]
  },
  {
   "cell_type": "code",
   "execution_count": null,
   "metadata": {
    "id": "hK6jqei9Nf5W"
   },
   "outputs": [],
   "source": [
    "import tensorflow as tf\n",
    "import tensorflow.keras.backend as K\n",
    "#--------------------------------------------\n",
    "# Define custom loss function \n",
    "def customLoss(y_true, y_pred, invcov):\n",
    "  # print(type(y_true))    #<class 'tensorflow.python.ops.resource_variable_ops.ResourceVariable'>\n",
    "\n",
    "  batch_size = tf.shape(y_pred)[0]\n",
    "  print('y_pred shape: ' + str(y_pred.shape) )  # y_pred shape is (batch, 5)\n",
    "  print('y_true shape: ' + str(y_true.shape) )  # y_true shape is (batch, 5)\n",
    "  print('invcov shape: ' + str(invcov.shape) )  # invcov shape is (batch, 25)\n",
    "  \n",
    "  y_pred = K.reshape(y_pred, (batch_size, 5,1)) # y_pred  shape is now (batch, 5,1)\n",
    "  y_true = K.reshape(y_true, (batch_size, 5,1)) # y_state shape is now (batch, 5,1)\n",
    "  invcov = K.reshape(invcov, (batch_size, 5,5)) # invcov  shape is now (batch, 5,5)\n",
    "  \n",
    "  # n.b. we must use tf.transpose here an not K.transpose since the latter does not allow perm argument\n",
    "  invcov = tf.transpose(invcov, perm=[0,2,1])     # invcov shape is now (batch, 5,5)\n",
    "  \n",
    "  # Difference between prediction and true state vectors\n",
    "  y_diff = y_pred - y_true\n",
    "\n",
    "  # n.b. use \"batch_dot\" and not \"dot\"!\n",
    "  y_dot = K.batch_dot(invcov, y_diff)           # y_dot shape is (batch,5,1)\n",
    "  y_dot = K.reshape(y_dot, (batch_size, 1, 5))  # y_dot shape is now (batch,1,5)\n",
    "  y_loss = K.batch_dot(y_dot, y_diff)           # y_loss shape is (batch,1,1)\n",
    "  y_loss = K.reshape(y_loss, (batch_size,))     # y_loss shape is now (batch)\n",
    "  # y_dict = {\n",
    "  #     \"q_pt\":y_diff[0]*y_diff[0],\n",
    "  #     \"phi\":y_diff[0]*y_diff[0]\n",
    "  # }\n",
    "  # y_diff[0] / invcov[0][0]\n",
    "  return y_loss\n",
    "\n",
    "#--------------------------------------------\n",
    "# Test loss function\n",
    "# x_test = x_train[2][0]\n",
    "# y_test = model.predict([x_train[0][0:1],x_train[1][0:1],x_train[2][0:1]])\n",
    "# y_test = np.squeeze(y_test)\n",
    "# inconv_test = x_train[1][0]\n",
    "\n",
    "# loss = K.eval(customLoss(K.variable([x_test,x_test,x_test]), K.variable([y_test,y_test,y_test]), K.variable([inconv_test,inconv_test,inconv_test])))\n",
    "# # print('loss shape: '    + str(loss.shape)    )\n",
    "# print(loss)"
   ]
  },
  {
   "cell_type": "markdown",
   "metadata": {
    "id": "N4XBVGilP4tc"
   },
   "source": [
    "### V6 New Way"
   ]
  },
  {
   "cell_type": "code",
   "execution_count": null,
   "metadata": {
    "id": "JsGirPS0P4jb"
   },
   "outputs": [],
   "source": [
    "import tensorflow as tf\n",
    "import tensorflow.keras.backend as K\n",
    "def customLoss(m_invcov):\n",
    "  def customLoss_fn(y_true, y_pred):\n",
    "    batch_size = tf.shape(y_pred)[0]\n",
    "\n",
    "    y_pred = tf.cast(K.reshape(y_pred, (batch_size, 5,1)),\"float64\") # y_pred  shape is now (batch, 5,1)\n",
    "    y_true = tf.cast(K.reshape(y_true, (batch_size, 5,1)),\"float64\") # y_state shape is now (batch, 5,1)\n",
    "    invcov = tf.cast(K.reshape(m_invcov, (batch_size, 5,5)),\"float64\") # invcov  shape is now (batch, 5,5)\n",
    "    \n",
    "    # n.b. we must use tf.transpose here an not K.transpose since the latter does not allow perm argument\n",
    "    invcov = tf.transpose(invcov, perm=[0,2,1])     # invcov shape is now (batch, 5,5)\n",
    "    \n",
    "    # Difference between prediction and true state vectors\n",
    "    y_diff = y_pred - y_true\n",
    "\n",
    "    # n.b. use \"batch_dot\" and not \"dot\"!\n",
    "    y_dot = K.batch_dot(invcov, y_diff)           # y_dot shape is (batch,5,1)\n",
    "    y_dot = K.reshape(y_dot, (batch_size, 1, 5))  # y_dot shape is now (batch,1,5)\n",
    "    y_loss = K.batch_dot(y_dot, y_diff)           # y_loss shape is (batch,1,1)\n",
    "    y_loss = K.reshape(y_loss, (batch_size,))     # y_loss shape is now (batch)\n",
    "    return y_loss\n",
    "  return customLoss_fn"
   ]
  },
  {
   "cell_type": "code",
   "execution_count": null,
   "metadata": {
    "id": "rkuUUNJWjM_i"
   },
   "outputs": [],
   "source": [
    "import tensorflow as tf\n",
    "import tensorflow.keras.backend as K\n",
    "def customLoss(y_true, y_pred, invcov):\n",
    "  batch_size = tf.shape(y_pred)[0]\n",
    "\n",
    "  print('y_pred shape: ' + str(y_pred.shape) )  # y_pred shape is (batch, 5)\n",
    "  print('y_true shape: ' + str(y_true.shape) )  # y_true shape is (batch, 5)\n",
    "  print('invcov shape: ' + str(invcov.shape) )  # invcov shape is (batch, 25)\n",
    "\n",
    "  y_pred = tf.cast(K.reshape(y_pred, (batch_size, 5,1)),\"float64\") # y_pred  shape is now (batch, 5,1)\n",
    "  y_true = tf.cast(K.reshape(y_true, (batch_size, 5,1)),\"float64\") # y_state shape is now (batch, 5,1)\n",
    "  invcov = tf.cast(K.reshape(invcov, (batch_size, 5,5)),\"float64\") # invcov  shape is now (batch, 5,5)\n",
    "  \n",
    "  # n.b. we must use tf.transpose here an not K.transpose since the latter does not allow perm argument\n",
    "  invcov = tf.transpose(invcov, perm=[0,2,1])     # invcov shape is now (batch, 5,5)\n",
    "  \n",
    "  # Difference between prediction and true state vectors\n",
    "  y_diff = y_pred - y_true\n",
    "\n",
    "  # n.b. use \"batch_dot\" and not \"dot\"!\n",
    "  y_dot = K.batch_dot(invcov, y_diff)           # y_dot shape is (batch,5,1)\n",
    "  y_dot = K.reshape(y_dot, (batch_size, 1, 5))  # y_dot shape is now (batch,1,5)\n",
    "  y_loss = K.batch_dot(y_dot, y_diff)           # y_loss shape is (batch,1,1)\n",
    "  y_loss = K.reshape(y_loss, (batch_size,))     # y_loss shape is now (batch)\n",
    "  return y_loss"
   ]
  },
  {
   "cell_type": "code",
   "execution_count": null,
   "metadata": {
    "id": "rqNp5hG98yPr"
   },
   "outputs": [],
   "source": []
  }
 ],
 "metadata": {
  "accelerator": "GPU",
  "colab": {
   "collapsed_sections": [
    "DBknRRcl6LMm"
   ],
   "name": "CopyOfRNN.ipynb",
   "provenance": [],
   "toc_visible": true
  },
  "kernelspec": {
   "display_name": "Python 3",
   "language": "python",
   "name": "python3"
  },
  "language_info": {
   "codemirror_mode": {
    "name": "ipython",
    "version": 3
   },
   "file_extension": ".py",
   "mimetype": "text/x-python",
   "name": "python",
   "nbconvert_exporter": "python",
   "pygments_lexer": "ipython3",
   "version": "3.8.6"
  }
 },
 "nbformat": 4,
 "nbformat_minor": 4
}
